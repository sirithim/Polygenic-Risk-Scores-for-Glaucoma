{
 "cells": [
  {
   "cell_type": "code",
   "execution_count": null,
   "id": "8a5fa315",
   "metadata": {},
   "outputs": [],
   "source": [
    "import matplotlib.pyplot as plt\n",
    "import pandas as pd\n",
    "import numpy as np\n",
    "import seaborn as sns\n",
    "from scipy.stats import norm\n",
    "from sklearn.preprocessing import StandardScaler\n",
    "from sklearn.metrics import roc_curve, auc\n",
    "from scipy.stats import ttest_ind\n",
    "import statistics\n",
    "import os\n",
    "from sklearn.utils import resample\n",
    "from matplotlib.patches import Rectangle\n"
   ]
  },
  {
   "cell_type": "code",
   "execution_count": null,
   "id": "920ab93e",
   "metadata": {},
   "outputs": [],
   "source": [
    "#importing the PRSice-2 output .best file (converetd into .txt in terminal). Here I add the sep to seperate the column names with a comma) \n",
    "df_prs = pd.read_table('/mnt/shared_folders/eResearch_glaucoma_project/Sirithi/16_02_new_case_control_and_cov_file/PRS_output/trialcheck2.best', sep=r'\\s+',header=0, encoding='ascii',engine='python')\n"
   ]
  },
  {
   "cell_type": "code",
   "execution_count": null,
   "id": "44a8906a",
   "metadata": {},
   "outputs": [],
   "source": [
    "#importing the case control file \n",
    "df_cc = pd.read_table('/mnt/shared_folders/eResearch_glaucoma_project/Sirithi/16_02_new_case_control_and_cov_file/new_case_control.txt', sep=r'\\s+',header=0, encoding='ascii',engine='python')"
   ]
  },
  {
   "cell_type": "code",
   "execution_count": null,
   "id": "1e79aab2",
   "metadata": {},
   "outputs": [],
   "source": [
    "#substitute this with MYOC or LHON or APOE4 file \n",
    "#/mnt/shared_folders/eResearch_glaucoma_project/Sirithi/Post_PRS/APOE4_IDs.txt'\n",
    "#/mnt/shared_folders/eResearch_glaucoma_project/Sirithi/Post_PRS/MYOC_ids.txt\n",
    "#/mnt/shared_folders/eResearch_glaucoma_project/Sirithi/Post_PRS/LHON_IDs.txt\n",
    "\n",
    "mutation_data = pd.read_csv('/mnt/shared_folders/eResearch_glaucoma_project/Sirithi/Post_PRS/LHON_IDs.txt', sep=r'\\s+')\n",
    "print(mutation_data)"
   ]
  },
  {
   "cell_type": "code",
   "execution_count": null,
   "id": "5912a469",
   "metadata": {},
   "outputs": [],
   "source": [
    "age_data = pd.read_csv('/mnt/shared_folders/eResearch_glaucoma_project/Sirithi/16_02_new_case_control_and_cov_file/new_cov.txt', sep='\\s+', header=0)"
   ]
  },
  {
   "cell_type": "code",
   "execution_count": null,
   "id": "cde34d6a",
   "metadata": {},
   "outputs": [],
   "source": [
    "print(age_data)"
   ]
  },
  {
   "cell_type": "code",
   "execution_count": null,
   "id": "bd8440cd",
   "metadata": {},
   "outputs": [],
   "source": [
    "#count_ones = (df_cc['Phenotypes'] == 1).sum()\n",
    "\n",
    "#print(\"Number of occurrences of 1 in the 'Phenotype' column:\", count_ones)\n",
    "print(df_cc.head)"
   ]
  },
  {
   "cell_type": "code",
   "execution_count": null,
   "id": "37e01fec",
   "metadata": {},
   "outputs": [],
   "source": [
    "4# Thought I should only use data thats used in the regression model\n",
    "df_prs_filtered = df_prs[df_prs['In_Regression'] == 'Yes']\n",
    "print(df_prs_filtered.head())"
   ]
  },
  {
   "cell_type": "code",
   "execution_count": null,
   "id": "c3a94f88",
   "metadata": {},
   "outputs": [],
   "source": [
    "df_prs_filtered = df_prs_filtered.dropna(subset=['PRS'])"
   ]
  },
  {
   "cell_type": "code",
   "execution_count": null,
   "id": "4e6d6ea7",
   "metadata": {},
   "outputs": [],
   "source": [
    "# convert PRS column to numeric\n",
    "df_prs_filtered['PRS'] = pd.to_numeric(df_prs_filtered['PRS'], errors='coerce')"
   ]
  },
  {
   "cell_type": "code",
   "execution_count": null,
   "id": "d1e7cbb6",
   "metadata": {},
   "outputs": [],
   "source": [
    "#Merge the dfs\n",
    "merged_df = pd.merge(df_prs_filtered, df_cc, on=['FID', 'IID'])"
   ]
  },
  {
   "cell_type": "code",
   "execution_count": null,
   "id": "3d5a1ac0",
   "metadata": {},
   "outputs": [],
   "source": [
    "# separate the data into cases and controls\n",
    "cases = merged_df[merged_df['Phenotypes'] == 1]['PRS']\n",
    "controls = merged_df[merged_df['Phenotypes'] == 0]['PRS']"
   ]
  },
  {
   "cell_type": "code",
   "execution_count": null,
   "id": "6e560cff",
   "metadata": {},
   "outputs": [],
   "source": [
    "print(merged_df)"
   ]
  },
  {
   "cell_type": "code",
   "execution_count": null,
   "id": "63c24fca",
   "metadata": {},
   "outputs": [],
   "source": [
    "# Step 3: Filter mutation carriers and non-carriers\n",
    "mutation_carriers = merged_df[merged_df['IID'].isin(mutation_data['IID'])]\n",
    "non_carriers = merged_df[~merged_df['IID'].isin(mutation_data['IID'])]\n",
    "\n",
    "# Calculate deciles for both groups\n",
    "mutation_carriers['PRS_decile'] = pd.qcut(mutation_carriers['PRS'], 10, labels=False) + 1\n",
    "non_carriers['PRS_decile'] = pd.qcut(non_carriers['PRS'], 10, labels=False) + 1\n"
   ]
  },
  {
   "cell_type": "code",
   "execution_count": null,
   "id": "42201200",
   "metadata": {},
   "outputs": [],
   "source": [
    "print(merged_df)"
   ]
  },
  {
   "cell_type": "code",
   "execution_count": null,
   "id": "1da1bb59",
   "metadata": {},
   "outputs": [],
   "source": [
    "\n",
    "# Step 2: Count total number of mutation carriers\n",
    "total_mutation_carriers = len(mutation_carriers)\n",
    "\n",
    "# Step 3: Separate mutation carriers into cases and controls\n",
    "mutation_carrier_cases = mutation_carriers[mutation_carriers['Phenotypes'] == 1]\n",
    "mutation_carrier_controls = mutation_carriers[mutation_carriers['Phenotypes'] == 0]\n",
    "\n",
    "# Count the number of cases and controls among the mutation carriers\n",
    "num_carrier_cases = len(mutation_carrier_cases)\n",
    "num_carrier_controls = len(mutation_carrier_controls)\n",
    "\n",
    "# Output the results\n",
    "print(f\"Total mutation carriers: {total_mutation_carriers}\")\n",
    "print(f\"Mutation carrier cases: {num_carrier_cases}\")\n",
    "print(f\"Mutation carrier controls: {num_carrier_controls}\")\n"
   ]
  },
  {
   "cell_type": "code",
   "execution_count": null,
   "id": "e9781356",
   "metadata": {},
   "outputs": [],
   "source": [
    "\n",
    "# Function to calculate cumulative risk\n",
    "def calculate_cumulative_risk(df):\n",
    "    df = df.merge(age_data, on=['FID', 'IID'])\n",
    "    df.sort_values('Age_at_Recruitment', inplace=True)\n",
    "    df['cumulative_cases'] = df['Phenotypes'].cumsum()\n",
    "    df['cumulative_risk'] = df['cumulative_cases'] / len(df)\n",
    "    return df\n",
    "\n",
    "\n",
    "# Function to bootstrap cumulative risk\n",
    "def bootstrap_cumulative_risk(df, n_bootstrap=1000):\n",
    "    bootstrapped_risks = []\n",
    "    for _ in range(n_bootstrap):\n",
    "        boot_df = df.sample(frac=1, replace=True)\n",
    "        boot_risk = calculate_cumulative_risk(boot_df)\n",
    "        bootstrapped_risks.append(boot_risk['cumulative_risk'].values)\n",
    "    return np.percentile(bootstrapped_risks, [2.5, 97.5], axis=0)\n",
    "\n",
    "# Calculate cumulative risk and bootstrapped CIs for mutation carriers\n",
    "top_decile_carriers = mutation_carriers[mutation_carriers['PRS_decile'] == 10]\n",
    "bottom_decile_carriers = mutation_carriers[mutation_carriers['PRS_decile'] == 1]\n",
    "\n",
    "top_cumulative_risk_carriers = calculate_cumulative_risk(top_decile_carriers)\n",
    "ci_top_carriers = bootstrap_cumulative_risk(top_decile_carriers)\n",
    "\n",
    "bottom_cumulative_risk_carriers = calculate_cumulative_risk(bottom_decile_carriers)\n",
    "ci_bottom_carriers = bootstrap_cumulative_risk(bottom_decile_carriers)\n",
    "\n",
    "# Calculate cumulative risk and bootstrapped CIs for non-carriers\n",
    "top_decile_non_carriers = non_carriers[non_carriers['PRS_decile'] == 10]\n",
    "bottom_decile_non_carriers = non_carriers[non_carriers['PRS_decile'] == 1]\n",
    "\n",
    "top_cumulative_risk_non_carriers = calculate_cumulative_risk(top_decile_non_carriers)\n",
    "ci_top_non_carriers = bootstrap_cumulative_risk(top_decile_non_carriers)\n",
    "\n",
    "bottom_cumulative_risk_non_carriers = calculate_cumulative_risk(bottom_decile_non_carriers)\n",
    "ci_bottom_non_carriers = bootstrap_cumulative_risk(bottom_decile_non_carriers)\n"
   ]
  },
  {
   "cell_type": "code",
   "execution_count": null,
   "id": "1c0850d5",
   "metadata": {},
   "outputs": [],
   "source": [
    "import os \n",
    "# Plot the cumulative risk with bootstrapped CI\n",
    "plt.figure(figsize=(12, 6))\n",
    "\n",
    "# Plotting top decile for carriers\n",
    "sns.lineplot(data=top_cumulative_risk_carriers, x='Age_at_Recruitment', y='cumulative_risk', label='Top PRS Decile (Carriers)')\n",
    "plt.fill_between(top_cumulative_risk_carriers['Age_at_Recruitment'], ci_top_carriers[0], ci_top_carriers[1], alpha=0.3)\n",
    "\n",
    "# Plotting bottom decile for carriers\n",
    "sns.lineplot(data=bottom_cumulative_risk_carriers, x='Age_at_Recruitment', y='cumulative_risk', label='Bottom PRS Decile (Carriers)')\n",
    "plt.fill_between(bottom_cumulative_risk_carriers['Age_at_Recruitment'], ci_bottom_carriers[0], ci_bottom_carriers[1], alpha=0.3)\n",
    "\n",
    "# Plotting top decile for non-carriers\n",
    "sns.lineplot(data=top_cumulative_risk_non_carriers, x='Age_at_Recruitment', y='cumulative_risk', label='Top PRS Decile (Non-Carriers)')\n",
    "plt.fill_between(top_cumulative_risk_non_carriers['Age_at_Recruitment'], ci_top_non_carriers[0], ci_top_non_carriers[1], alpha=0.3)\n",
    "\n",
    "# Plotting bottom decile for non-carriers\n",
    "sns.lineplot(data=bottom_cumulative_risk_non_carriers, x='Age_at_Recruitment', y='cumulative_risk', label='Bottom PRS Decile (Non-Carriers)')\n",
    "plt.fill_between(bottom_cumulative_risk_non_carriers['Age_at_Recruitment'], ci_bottom_non_carriers[0], ci_bottom_non_carriers[1], alpha=0.3)\n",
    "\n",
    "\n",
    "\n",
    "\n",
    "plt.xlabel('Age')\n",
    "plt.ylabel('Cumulative Risk of Glaucoma')\n",
    "plt.legend()\n",
    "# Display the combined figure\n",
    "plt.tight_layout()\n",
    "\n",
    "# Save the figure\n",
    "folder_path = '/mnt/shared_folders/eResearch_glaucoma_project/Sirithi/Graph_Images/facet_plots/'\n",
    "file_path = os.path.join(folder_path, 'LHON_cumulative.pdf')\n",
    "\n",
    "# Ensure the folder exists and save the figure\n",
    "os.makedirs(folder_path, exist_ok=True)\n",
    "plt.savefig(file_path)\n",
    "\n",
    "plt.show()\n",
    "\n"
   ]
  },
  {
   "cell_type": "code",
   "execution_count": null,
   "id": "1b9864f1",
   "metadata": {},
   "outputs": [],
   "source": [
    "# Extract cumulative risk at age 60\n",
    "def get_cumulative_risk_at_age(df, age=60):\n",
    "    return df[df['Age_at_Recruitment'] == age]['cumulative_risk'].values[0]\n",
    "\n",
    "top_cumulative_risk_carriers_60 = get_cumulative_risk_at_age(top_cumulative_risk_carriers)\n",
    "bottom_cumulative_risk_carriers_60 = get_cumulative_risk_at_age(bottom_cumulative_risk_carriers)\n",
    "\n",
    "# Calculate difference in cumulative risk at age 60 for mutation carriers\n",
    "diff_top_bottom_carriers = top_cumulative_risk_carriers_60 - bottom_cumulative_risk_carriers_60\n",
    "\n",
    "print(f\"Difference in cumulative risk at age 60 (Mutation Carriers): {diff_top_bottom_carriers:.4f}\")\n"
   ]
  },
  {
   "cell_type": "code",
   "execution_count": null,
   "id": "3e0f3e9d",
   "metadata": {},
   "outputs": [],
   "source": [
    "# Calculate the fold difference\n",
    "fold_difference = top_cumulative_risk_carriers_60 / bottom_cumulative_risk_carriers_60\n",
    "print(f\"Fold difference in cumulative risk at age 60 (Mutation Carriers): {fold_difference:.4f}\")"
   ]
  },
  {
   "cell_type": "code",
   "execution_count": null,
   "id": "c81eebfb",
   "metadata": {},
   "outputs": [],
   "source": []
  },
  {
   "cell_type": "code",
   "execution_count": null,
   "id": "a59f16ef",
   "metadata": {},
   "outputs": [],
   "source": []
  },
  {
   "cell_type": "code",
   "execution_count": null,
   "id": "1c8d847d",
   "metadata": {},
   "outputs": [],
   "source": []
  },
  {
   "cell_type": "code",
   "execution_count": null,
   "id": "29372118",
   "metadata": {},
   "outputs": [],
   "source": []
  }
 ],
 "metadata": {
  "kernelspec": {
   "display_name": "Python 3 (ipykernel)",
   "language": "python",
   "name": "python3"
  },
  "language_info": {
   "codemirror_mode": {
    "name": "ipython",
    "version": 3
   },
   "file_extension": ".py",
   "mimetype": "text/x-python",
   "name": "python",
   "nbconvert_exporter": "python",
   "pygments_lexer": "ipython3",
   "version": "3.8.10"
  }
 },
 "nbformat": 4,
 "nbformat_minor": 5
}
