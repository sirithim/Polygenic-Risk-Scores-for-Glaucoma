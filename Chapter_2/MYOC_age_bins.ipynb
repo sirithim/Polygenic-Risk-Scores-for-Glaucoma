{
 "cells": [
  {
   "cell_type": "code",
   "execution_count": null,
   "id": "a56db600",
   "metadata": {},
   "outputs": [],
   "source": [
    "import pandas as pd\n",
    "import numpy as np\n",
    "import seaborn as sns\n",
    "import matplotlib.pyplot as plt\n",
    "from matplotlib.patches import Rectangle\n",
    "from sklearn.preprocessing import StandardScaler\n",
    "from sklearn.metrics import roc_curve, auc\n",
    "\n"
   ]
  },
  {
   "cell_type": "code",
   "execution_count": null,
   "id": "f00893a4",
   "metadata": {},
   "outputs": [],
   "source": [
    "# Read age at recruitment file\n",
    "age_df = pd.read_csv('/mnt/shared_folders/eResearch_glaucoma_project/Sirithi/16_02_new_case_control_and_cov_file/new_cov.txt', sep='\\s+', header=0)\n",
    "\n",
    "# Read PRS data and case control file (assuming you already have these dataframes)\n",
    "df_prs = pd.read_table('/mnt/shared_folders/eResearch_glaucoma_project/Sirithi/16_02_new_case_control_and_cov_file/PRS_output/trial04.best', sep=r'\\s+', header=0, encoding='ascii', engine='python')\n",
    "df_cc = pd.read_table('/mnt/shared_folders/eResearch_glaucoma_project/Sirithi/16_02_new_case_control_and_cov_file/new_case_control.txt', sep=r'\\s+', header=0, encoding='ascii', engine='python')\n"
   ]
  },
  {
   "cell_type": "code",
   "execution_count": null,
   "id": "1d6a4547",
   "metadata": {},
   "outputs": [],
   "source": [
    "print(age_df)"
   ]
  },
  {
   "cell_type": "code",
   "execution_count": null,
   "id": "2a2b24ca",
   "metadata": {},
   "outputs": [],
   "source": [
    "\n",
    "# Merge age data with PRS data\n",
    "merged_df = pd.merge(df_prs, df_cc, on=['FID', 'IID'])\n",
    "\n",
    "# Merge age data with merged_df\n",
    "merged_df = pd.merge(merged_df, age_df, on=['FID', 'IID'])\n",
    "\n",
    "# Separate the data into cases and controls\n",
    "cases = merged_df[merged_df['Phenotypes'] == 1]['PRS']\n",
    "controls = merged_df[merged_df['Phenotypes'] == 0]['PRS']\n"
   ]
  },
  {
   "cell_type": "code",
   "execution_count": null,
   "id": "3a18a1f3",
   "metadata": {},
   "outputs": [],
   "source": [
    "\n",
    "# standardize the PRS data\n",
    "scaler = StandardScaler()\n",
    "merged_df['PRS_standardized'] = scaler.fit_transform(merged_df['PRS'].values.reshape(-1, 1))\n",
    "\n",
    "# plot the standardized normal distribution curves with different colors and make it pretty\n",
    "plt.figure(figsize=(10, 6))\n",
    "sns.histplot(data=merged_df, x='PRS_standardized', bins=30, hue='Phenotypes', kde=True, stat='density', common_norm=False)\n",
    "plt.title('Standardized Normal Distribution of PRS for Cases and Controls for UKBiobank Data')\n",
    "plt.xlabel('Standardized PRS')\n",
    "plt.ylabel('Density')\n",
    "plt.legend(title='Group', labels=['Cases', 'Controls'])\n",
    "plt.show()\n"
   ]
  },
  {
   "cell_type": "code",
   "execution_count": null,
   "id": "2cfd2851",
   "metadata": {},
   "outputs": [],
   "source": [
    "# Create the box plot\n",
    "plt.figure(figsize=(10, 6))\n",
    "sns.boxplot(x='Phenotypes', y='PRS_standardized', data=merged_df, palette=\"Set3\")\n",
    "plt.title('Box Plot of Standardized PRS for Cases and Controls in UKBiobank Data')\n",
    "plt.xlabel('Phenotypes')\n",
    "plt.ylabel('Standardized PRS')\n",
    "plt.show()"
   ]
  },
  {
   "cell_type": "code",
   "execution_count": null,
   "id": "f3348023",
   "metadata": {},
   "outputs": [],
   "source": [
    "# Calculate summary statistics for cases and controls\n",
    "summary_stats = merged_df.groupby('Phenotypes')['PRS_standardized'].agg(['mean', 'median', 'std', lambda x: x.quantile(0.25), lambda x: x.quantile(0.75)])\n",
    "summary_stats.columns = ['Mean', 'Median', 'Standard Deviation', '25th Percentile (Q1)', '75th Percentile (Q3)']\n",
    "summary_stats['IQR'] = summary_stats['75th Percentile (Q3)'] - summary_stats['25th Percentile (Q1)']\n",
    "\n",
    "# Display the summary statistics\n",
    "print(summary_stats)"
   ]
  },
  {
   "cell_type": "code",
   "execution_count": null,
   "id": "62c811b6",
   "metadata": {},
   "outputs": [],
   "source": [
    "# Calculate percentiles\n",
    "merged_df['Percentile'] = pd.qcut(merged_df['PRS_standardized'], 100, labels=False)\n",
    "\n",
    "# Calculate prevalence of cases and controls in each percentile\n",
    "percentile_counts = merged_df.groupby(['Percentile', 'Phenotypes']).size().unstack(fill_value=0)\n",
    "percentile_prevalence = percentile_counts.div(percentile_counts.sum(axis=1), axis=0)\n",
    "\n",
    "# Create the dot plot\n",
    "plt.figure(figsize=(18, 10))\n",
    "sns.stripplot(x='Percentile', y='PRS_standardized', hue='Phenotypes', data=merged_df, dodge=True, palette=['skyblue', 'darkorange'], jitter=0.3, alpha=0.7)\n",
    "\n",
    "# Set y-axis labels to show prevalence\n",
    "plt.yticks(ticks=np.arange(-2, 3, 1), labels=[f'{i * 20}%' for i in range(-2, 3)])\n",
    "\n",
    "plt.title('Dot Plot of PRS Percentiles for Cases and Controls')\n",
    "plt.xlabel('PRS Percentile')\n",
    "plt.ylabel('Standardized PRS')\n",
    "plt.legend(title='Group', loc='upper left', bbox_to_anchor=(1, 1))\n",
    "\n",
    "plt.show()"
   ]
  },
  {
   "cell_type": "code",
   "execution_count": null,
   "id": "c1721ce2",
   "metadata": {},
   "outputs": [],
   "source": [
    "\n",
    "## NEXT - trying to make the proportion of individuals vs PRS decile graph\n",
    "\n",
    "# Calculate the PRS deciles\n",
    "merged_df['PRS_decile'] = pd.qcut(merged_df['PRS_standardized'], q=10, labels=False, duplicates='drop') \n",
    "\n",
    "# counting the number of indv (cases vs controls) by PRS decile and age group\n",
    "decile_counts = merged_df.groupby(['PRS_decile', 'Age_at_Recruitment', 'Phenotypes']).size().unstack(fill_value=0)\n"
   ]
  },
  {
   "cell_type": "code",
   "execution_count": null,
   "id": "c1217175",
   "metadata": {},
   "outputs": [],
   "source": [
    "print(merged_df) "
   ]
  },
  {
   "cell_type": "code",
   "execution_count": null,
   "id": "21cf460c",
   "metadata": {},
   "outputs": [],
   "source": [
    "# calculating the PRS deciles\n",
    "merged_df['PRS_decile'] = pd.qcut(merged_df['PRS_standardized'], q=10, labels=False)\n",
    "\n",
    "# Define age bins\n",
    "age_bins = [0, 30, 40, 50, 60, np.inf]\n",
    "age_labels = ['Under 30', '30-40', '40-50', '50-60', 'Over 60']\n",
    "\n",
    "# Bin individuals by age\n",
    "merged_df['Age_Group'] = pd.cut(merged_df['Age_at_Recruitment'], bins=age_bins, labels=age_labels)\n",
    "\n",
    "# Plotting proportion of cases and controls in PRS deciles by age group\n",
    "plt.figure(figsize=(12, 6))\n",
    "sns.barplot(data=merged_df, x='PRS_decile', y='Phenotypes', hue='Age_Group', ci=None)\n",
    "plt.title('Proportion of Cases and Controls in PRS Deciles by Age Group')\n",
    "plt.xlabel('PRS Decile')\n",
    "plt.ylabel('Proportion')\n",
    "plt.legend(title='Age Group')\n",
    "plt.show()"
   ]
  },
  {
   "cell_type": "code",
   "execution_count": null,
   "id": "bb3a2885",
   "metadata": {},
   "outputs": [],
   "source": [
    "#MYOC\n",
    "# Step 1: Read the file containing the IDs of patients with the MYOC mutation\n",
    "myoc_patients_df = pd.read_csv('/mnt/shared_folders/eResearch_glaucoma_project/Sirithi/Post_PRS/MYOC_ids.txt', header=None, names=['MYOC_ID'])\n",
    "\n",
    "# Step 2: Merge this information with your existing dataframe to filter out only those patients who have the MYOC mutation\n",
    "merged_df_myoc = pd.merge(merged_df, myoc_patients_df, left_on='IID', right_on='MYOC_ID', how='inner')\n",
    "\n",
    "# Step 3: Bin these patients into age groups\n",
    "merged_df_myoc['Age_Group'] = pd.cut(merged_df_myoc['Age_at_Recruitment'], bins=age_bins, labels=age_labels)\n",
    "\n",
    "# Step 4: Plot the risk decile plot, color-coding the patients based on their age bins\n",
    "plt.figure(figsize=(12, 6))\n",
    "sns.barplot(data=merged_df_myoc, x='PRS_decile', y='Phenotypes', hue='Age_Group', ci=None)\n",
    "plt.title('Proportion of MYOC Mutation Patients in PRS Deciles by Age Group')\n",
    "plt.xlabel('PRS Decile')\n",
    "plt.ylabel('Proportion')\n",
    "plt.xticks(np.arange(0, 10), ['1', '2', '3', '4', '5', '6', '7', '8', '9', '10'])\n",
    "plt.legend(title='Age Group')\n",
    "plt.show()\n"
   ]
  },
  {
   "cell_type": "code",
   "execution_count": null,
   "id": "fbcc4e5f",
   "metadata": {},
   "outputs": [],
   "source": [
    "print(merged_df_myoc)"
   ]
  },
  {
   "cell_type": "code",
   "execution_count": null,
   "id": "4bcec864",
   "metadata": {},
   "outputs": [],
   "source": [
    "# Identify MYOC carriers who are cases and controls\n",
    "myoc_cases = merged_df_myoc[merged_df_myoc['Phenotypes'] == 1]\n",
    "myoc_controls = merged_df_myoc[merged_df_myoc['Phenotypes'] == 0]\n"
   ]
  },
  {
   "cell_type": "code",
   "execution_count": null,
   "id": "ac6893cd",
   "metadata": {},
   "outputs": [],
   "source": [
    "# Bin these patients into age groups\n",
    "age_bins = [40, 50, 60, 70, 80]\n",
    "age_labels = [ '40-50', '50-60', '60-70', '70-80']\n",
    "myoc_cases['Age_Group'] = pd.cut(myoc_cases['Age_at_Recruitment'], bins=age_bins, labels=age_labels, right=False)\n",
    "myoc_controls['Age_Group'] = pd.cut(myoc_controls['Age_at_Recruitment'], bins=age_bins, labels=age_labels, right=False)\n",
    "\n",
    "# Count the number of cases and controls in each PRS decile and age group\n",
    "case_count_data = myoc_cases.groupby(['PRS_decile', 'Age_Group']).size().reset_index(name='Count')\n",
    "control_count_data = myoc_controls.groupby(['PRS_decile', 'Age_Group']).size().reset_index(name='Count')\n"
   ]
  },
  {
   "cell_type": "code",
   "execution_count": null,
   "id": "7b472ed3",
   "metadata": {},
   "outputs": [],
   "source": [
    "# Ensure PRS_decile is treated as categorical to avoid misalignment of bars\n",
    "case_count_data['PRS_decile'] = pd.Categorical(case_count_data['PRS_decile'], categories=range(0, 11))\n",
    "control_count_data['PRS_decile'] = pd.Categorical(control_count_data['PRS_decile'], categories=range(0, 11))\n",
    "\n"
   ]
  },
  {
   "cell_type": "code",
   "execution_count": null,
   "id": "546dc1fd",
   "metadata": {},
   "outputs": [],
   "source": [
    "print(control_count_data)"
   ]
  },
  {
   "cell_type": "code",
   "execution_count": null,
   "id": "e6e7f5ac",
   "metadata": {},
   "outputs": [],
   "source": [
    "plt.figure(figsize=(12, 6))\n",
    "sns.barplot(data=control_count_data, x='PRS_decile', y='Count', hue='Age_Group', ci=None, order=range(0, 11))\n",
    "plt.title('Proportion of MYOC Mutation Patients in PRS Deciles by Age Group')\n",
    "plt.xlabel('PRS Decile')\n",
    "plt.ylabel('Count')\n",
    "plt.xticks(np.arange(0, 10), ['1', '2', '3', '4', '5', '6', '7', '8', '9', '10'])\n",
    "plt.legend(title='Age Group')\n",
    "plt.show()"
   ]
  },
  {
   "cell_type": "code",
   "execution_count": null,
   "id": "c51adefe",
   "metadata": {},
   "outputs": [],
   "source": [
    "\n",
    "import matplotlib.ticker as ticker\n",
    "import os\n",
    "\n",
    "sns.set_style(\"white\")\n",
    "# Create a new figure for the combined plots\n",
    "plt.figure(figsize=(16, 7))  # Increase the width to add more space between the plots\n",
    "\n",
    "# Plot 1: Cases\n",
    "plt.subplot(1, 2, 1)\n",
    "sns.barplot(data=case_count_data, x='PRS_decile', y='Count', hue='Age_Group', palette='Paired', ci=None, order=range(0, 10))\n",
    "plt.xlabel('PRS Decile', fontsize=15)\n",
    "plt.ylabel('Count', fontsize=15)\n",
    "plt.xticks(np.arange(0, 10), ['1', '2', '3', '4', '5', '6', '7', '8', '9', '10'])\n",
    "plt.legend(title='Age Group')\n",
    "plt.text(-0.05, 1.02, '(A) MYOC Cases', color='black', fontsize=10, va='center', ha='left', transform=plt.gca().transAxes, fontweight='bold')\n",
    "\n",
    "# Set y-axis limits\n",
    "plt.ylim(0, 110)\n",
    "\n",
    "# Plot 2: Controls\n",
    "plt.subplot(1, 2, 2)\n",
    "sns.barplot(data=control_count_data, x='PRS_decile', y='Count', hue='Age_Group', palette='Paired',ci=None, order=range(0, 10))\n",
    "plt.xlabel('PRS Decile',fontsize=15)\n",
    "plt.ylabel('')\n",
    "plt.xticks(np.arange(0, 10), ['1', '2', '3', '4', '5', '6', '7', '8', '9', '10'])\n",
    "plt.legend(title='Age Group')\n",
    "plt.text(-0.05, 1.02, '(B)  MYOC Controls', color='black', fontsize=10, va='center', ha='left', transform=plt.gca().transAxes, fontweight='bold')\n",
    "\n",
    "\n",
    "# Set y-axis limits\n",
    "plt.ylim(0, 110)\n",
    "\n",
    "# Display the combined figure\n",
    "plt.tight_layout()\n",
    "# Save the figure\n",
    "folder_path = '/mnt/shared_folders/eResearch_glaucoma_project/Sirithi/Graph_Images/facet_plots/'\n",
    "file_path = os.path.join(folder_path, 'MYOC_age_bins.pdf')\n",
    "\n",
    "# Ensure the folder exists and save the figure\n",
    "os.makedirs(folder_path, exist_ok=True)\n",
    "plt.savefig(file_path)\n",
    "\n",
    "plt.close()"
   ]
  },
  {
   "cell_type": "code",
   "execution_count": null,
   "id": "36a69aba",
   "metadata": {},
   "outputs": [],
   "source": [
    "print(len(myoc_controls))"
   ]
  }
 ],
 "metadata": {
  "kernelspec": {
   "display_name": "Python 3 (ipykernel)",
   "language": "python",
   "name": "python3"
  },
  "language_info": {
   "codemirror_mode": {
    "name": "ipython",
    "version": 3
   },
   "file_extension": ".py",
   "mimetype": "text/x-python",
   "name": "python",
   "nbconvert_exporter": "python",
   "pygments_lexer": "ipython3",
   "version": "3.8.10"
  }
 },
 "nbformat": 4,
 "nbformat_minor": 5
}
