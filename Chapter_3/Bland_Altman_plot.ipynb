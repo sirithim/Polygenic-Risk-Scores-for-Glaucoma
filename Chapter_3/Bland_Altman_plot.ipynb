{
 "cells": [
  {
   "cell_type": "code",
   "execution_count": null,
   "id": "31089661",
   "metadata": {},
   "outputs": [],
   "source": [
    "import pandas as pd\n",
    "import numpy as np\n",
    "import matplotlib.pyplot as plt\n",
    "import os\n"
   ]
  },
  {
   "cell_type": "code",
   "execution_count": null,
   "id": "08ab1abf",
   "metadata": {},
   "outputs": [],
   "source": [
    "\n",
    "# Paths to your and MTAG .best files\n",
    "your_prs = '/mnt/shared_folders/eResearch_glaucoma_project/Sirithi/16_02_new_case_control_and_cov_file/PRS_output/trial04.best'\n",
    "craig_prs = '/mnt/shared_folders/eResearch_glaucoma_project/Sirithi/16_02_new_case_control_and_cov_file/PRS_output/trial05.best'\n",
    "\n",
    "# Load the .best files\n",
    "your_prs_df = pd.read_csv(your_prs, sep=r'\\s+',header=0, encoding='ascii',engine='python')\n",
    "craig_prs_df = pd.read_csv(craig_prs, sep=r'\\s+',header=0, encoding='ascii',engine='python')\n",
    "\n",
    "# Display the first few rows to ensure they've loaded correctly\n",
    "print(your_prs_df.head())\n",
    "print(craig_prs_df.head())\n"
   ]
  },
  {
   "cell_type": "code",
   "execution_count": null,
   "id": "2c0c07f1",
   "metadata": {},
   "outputs": [],
   "source": [
    "# Filter dataframes to include only rows where In_regression is 'yes'\n",
    "your_prs_filtered = your_prs_df[your_prs_df['In_Regression'] == 'Yes']\n",
    "craig_prs_filtered = craig_prs_df[craig_prs_df['In_Regression'] == 'Yes']\n"
   ]
  },
  {
   "cell_type": "code",
   "execution_count": null,
   "id": "b347b0d0",
   "metadata": {},
   "outputs": [],
   "source": [
    "# Ensure the dataframes are aligned on the same samples\n",
    "merged_df = pd.merge(your_prs_filtered, craig_prs_filtered, on='FID', suffixes=('_your', '_craig'))\n"
   ]
  },
  {
   "cell_type": "code",
   "execution_count": null,
   "id": "74cf16c0",
   "metadata": {},
   "outputs": [],
   "source": [
    "# Standardize the PRS values in each dataset separately\n",
    "your_prs_mean = merged_df['PRS_your'].mean()\n",
    "your_prs_std = merged_df['PRS_your'].std()\n",
    "craig_prs_mean = merged_df['PRS_craig'].mean()\n",
    "craig_prs_std = merged_df['PRS_craig'].std()\n",
    "\n",
    "merged_df['PRS_your_standardized'] = (merged_df['PRS_your'] - your_prs_mean) / your_prs_std\n",
    "merged_df['PRS_craig_standardized'] = (merged_df['PRS_craig'] - craig_prs_mean) / craig_prs_std\n"
   ]
  },
  {
   "cell_type": "code",
   "execution_count": null,
   "id": "f2538d31",
   "metadata": {},
   "outputs": [],
   "source": [
    "# Extract standardized PRS columns for comparison\n",
    "your_prs_standardized = merged_df['PRS_your_standardized']\n",
    "craig_prs_standardized = merged_df['PRS_craig_standardized']\n",
    "\n"
   ]
  },
  {
   "cell_type": "code",
   "execution_count": null,
   "id": "08915c0b",
   "metadata": {},
   "outputs": [],
   "source": [
    "# Calculate the mean and difference of the standardized PRS\n",
    "mean_prs = (your_prs_standardized + craig_prs_standardized) / 2\n",
    "diff_prs = your_prs_standardized - craig_prs_standardized\n"
   ]
  },
  {
   "cell_type": "code",
   "execution_count": null,
   "id": "cfea2848",
   "metadata": {},
   "outputs": [],
   "source": [
    "# Calculate mean difference and limits of agreement\n",
    "mean_diff = diff_prs.mean()\n",
    "sd_diff = diff_prs.std()\n",
    "loa_upper = mean_diff + 1.96 * sd_diff\n",
    "loa_lower = mean_diff - 1.96 * sd_diff\n",
    "\n"
   ]
  },
  {
   "cell_type": "code",
   "execution_count": null,
   "id": "173e3809",
   "metadata": {},
   "outputs": [],
   "source": [
    "# Create the Bland-Altman plot with standardized PRS\n",
    "plt.figure(figsize=(8, 6))\n",
    "plt.scatter(mean_prs, diff_prs, alpha=0.5)\n",
    "plt.axhline(mean_diff, color='gray', linestyle='--')\n",
    "plt.axhline(loa_upper, color='red', linestyle='--')\n",
    "plt.axhline(loa_lower, color='blue', linestyle='--')\n",
    "\n",
    "# Add text annotations on the right side\n",
    "plt.text(1.05, mean_diff, f'Mean: {mean_diff:.2f}', color='black', va='center', ha='left', rotation=0)\n",
    "plt.text(1.05, loa_upper, f'+1.96 SD: {loa_upper:.2f}', color='black', va='center', ha='left', rotation=0)\n",
    "plt.text(1.05, loa_lower, f'-1.96 SD: {loa_lower:.2f}', color='black', va='center', ha='left', rotation=0)\n",
    "\n",
    "plt.xlabel('Mean of the PRSs (Standardised)', fontsize =16)\n",
    "plt.ylabel('Difference between the PRSs (Standardized)',fontsize =16)\n",
    "plt.title('Bland-Altman Plot (Standardized PRS)')\n",
    "plt.ylim(diff_prs.min() - 0.5, diff_prs.max() + 0.5)  # Adjust ylim to fit annotations\n",
    "plt.grid(True)\n",
    "plt.show()"
   ]
  },
  {
   "cell_type": "code",
   "execution_count": null,
   "id": "a2f9af95",
   "metadata": {},
   "outputs": [],
   "source": [
    "# Create the Bland-Altman plot with standardized PRS\n",
    "plt.figure(figsize=(16, 10))\n",
    "plt.scatter(mean_prs, diff_prs, alpha=0.5)\n",
    "plt.axhline(mean_diff, color='gray', linestyle='--')\n",
    "plt.axhline(loa_upper, color='red', linestyle='--')\n",
    "plt.axhline(loa_lower, color='blue', linestyle='--')\n",
    "\n",
    "# Adjust the x-axis limit to leave space for annotations\n",
    "plt.xlim(mean_prs.min() - 0.5, mean_prs.max() + 1.5)\n",
    "\n",
    "# Add text annotations on the right side\n",
    "plt.text(mean_prs.max() + 1.8, mean_diff, f'Mean: {mean_diff:.2f}', color='black', va='center', ha='left', rotation=0)\n",
    "plt.text(mean_prs.max() + 1.8, loa_upper, f'+1.96 SD: {loa_upper:.2f}', color='black', va='center', ha='left', rotation=0)\n",
    "plt.text(mean_prs.max() + 1.8, loa_lower, f'-1.96 SD: {loa_lower:.2f}', color='black', va='center', ha='left', rotation=0)\n",
    "\n",
    "plt.xlabel('Mean of the PRSs (Standardised)', fontsize=14)\n",
    "plt.ylabel('Difference between the PRSs (Standardized)', fontsize=14)\n",
    "plt.ylim(diff_prs.min() - 0.5, diff_prs.max() + 0.5)  # Adjust ylim to fit annotations\n",
    "plt.grid(True)\n",
    "\n",
    "# Display the combined figure\n",
    "plt.tight_layout()\n",
    "\n",
    "# Ensure the folder exists and save the figure\n",
    "folder_path = '/mnt/shared_folders/eResearch_glaucoma_project/Sirithi/Graph_Images/facet_plots/'\n",
    "file_path = os.path.join(folder_path, 'Bland_altman.pdf')\n",
    "os.makedirs(folder_path, exist_ok=True)\n",
    "plt.savefig(file_path)\n",
    "\n",
    "# Close the plot\n",
    "plt.close()"
   ]
  }
 ],
 "metadata": {
  "kernelspec": {
   "display_name": "Python 3 (ipykernel)",
   "language": "python",
   "name": "python3"
  },
  "language_info": {
   "codemirror_mode": {
    "name": "ipython",
    "version": 3
   },
   "file_extension": ".py",
   "mimetype": "text/x-python",
   "name": "python",
   "nbconvert_exporter": "python",
   "pygments_lexer": "ipython3",
   "version": "3.8.10"
  }
 },
 "nbformat": 4,
 "nbformat_minor": 5
}
