{
 "cells": [
  {
   "cell_type": "code",
   "execution_count": null,
   "id": "bfc6ff97",
   "metadata": {},
   "outputs": [],
   "source": [
    "import matplotlib.pyplot as plt\n",
    "import pandas as pd\n",
    "import numpy as np\n",
    "import seaborn as sns\n",
    "from scipy.stats import norm\n",
    "from sklearn.preprocessing import StandardScaler\n",
    "from sklearn.metrics import roc_curve, auc\n",
    "from scipy.stats import ttest_ind\n",
    "import statistics\n",
    "from matplotlib.patches import Rectangle\n"
   ]
  },
  {
   "cell_type": "code",
   "execution_count": null,
   "id": "c70475a3",
   "metadata": {},
   "outputs": [],
   "source": [
    "#importing the PRSice-2 output .best file (converetd into .txt in terminal). Here I add the sep to seperate the column names with a comma) \n",
    "df_POAG = pd.read_table('/mnt/shared_folders/eResearch_glaucoma_project/Sirithi/16_02_new_case_control_and_cov_file/PRS_output/trial04.best', sep=r'\\s+',header=0, encoding='ascii',engine='python')\n",
    "df_Craig = pd.read_table('/mnt/shared_folders/eResearch_glaucoma_project/Sirithi/16_02_new_case_control_and_cov_file/PRS_output/trial05.best', sep=r'\\s+',header=0, encoding='ascii',engine='python')\n"
   ]
  },
  {
   "cell_type": "code",
   "execution_count": null,
   "id": "3124d5f5",
   "metadata": {},
   "outputs": [],
   "source": [
    "#importing the case control file \n",
    "df_cc = pd.read_table('/mnt/shared_folders/eResearch_glaucoma_project/Sirithi/16_02_new_case_control_and_cov_file/Treated_diagnosed_case_control.txt', sep=r'\\s+',header=0, encoding='ascii',engine='python')"
   ]
  },
  {
   "cell_type": "code",
   "execution_count": null,
   "id": "12d7a0c8",
   "metadata": {},
   "outputs": [],
   "source": [
    "4# Thought I should only use data thats used in the regression model\n",
    "df_POAG_filtered = df_POAG[df_POAG['In_Regression'] == 'Yes']\n",
    "df_Craig_filtered = df_Craig[df_Craig['In_Regression'] == 'Yes']"
   ]
  },
  {
   "cell_type": "code",
   "execution_count": null,
   "id": "d6e15414",
   "metadata": {},
   "outputs": [],
   "source": [
    "#drop NA\n",
    "df_POAG_filtered = df_POAG_filtered.dropna(subset=['PRS'])\n",
    "df_Craig_filtered = df_Craig_filtered.dropna(subset=['PRS'])"
   ]
  },
  {
   "cell_type": "code",
   "execution_count": null,
   "id": "15e57df7",
   "metadata": {},
   "outputs": [],
   "source": [
    "# convert PRS column to numeric\n",
    "df_POAG_filtered['PRS'] = pd.to_numeric(df_POAG_filtered['PRS'], errors='coerce')\n",
    "df_Craig_filtered['PRS'] = pd.to_numeric(df_Craig_filtered['PRS'], errors='coerce')"
   ]
  },
  {
   "cell_type": "code",
   "execution_count": null,
   "id": "136800cb",
   "metadata": {},
   "outputs": [],
   "source": [
    "print(df_Craig_filtered)"
   ]
  },
  {
   "cell_type": "code",
   "execution_count": null,
   "id": "027d5ae9",
   "metadata": {},
   "outputs": [],
   "source": [
    "# Merge the two PRS files based on common columns (FID and IID)\n",
    "merged_prs = pd.merge(df_Craig_filtered, df_POAG_filtered, on=['FID', 'IID'])\n"
   ]
  },
  {
   "cell_type": "code",
   "execution_count": null,
   "id": "e5202afe",
   "metadata": {},
   "outputs": [],
   "source": [
    "print(merged_prs)"
   ]
  },
  {
   "cell_type": "code",
   "execution_count": null,
   "id": "1f279e00",
   "metadata": {},
   "outputs": [],
   "source": [
    "# Add the PRS from both files\n",
    "merged_prs['Combined_PRS'] = merged_prs['PRS_x'] + merged_prs['PRS_y']\n"
   ]
  },
  {
   "cell_type": "code",
   "execution_count": null,
   "id": "30e20d28",
   "metadata": {},
   "outputs": [],
   "source": [
    "# Merge the merged PRS with the case-control file based on common columns (FID and IID)\n",
    "merged_data = pd.merge(merged_prs, df_cc, on=['FID', 'IID'])\n"
   ]
  },
  {
   "cell_type": "code",
   "execution_count": null,
   "id": "b64c982b",
   "metadata": {},
   "outputs": [],
   "source": [
    "# Separate the data into cases and controls based on 'Phenotypes'\n",
    "cases = merged_data[merged_data['Phenotypes'] == 1]['Combined_PRS']\n",
    "controls = merged_data[merged_data['Phenotypes'] == 0]['Combined_PRS']\n"
   ]
  },
  {
   "cell_type": "code",
   "execution_count": null,
   "id": "cdf87e16",
   "metadata": {},
   "outputs": [],
   "source": [
    "# standardize the PRS data\n",
    "scaler = StandardScaler()\n",
    "merged_data['PRS_standardized'] = scaler.fit_transform(merged_data['Combined_PRS'].values.reshape(-1, 1))\n",
    "\n",
    "# plot the standardized normal distribution curves with different colors and make it prety\n",
    "plt.figure(figsize=(10, 6))\n",
    "sns.histplot(data=merged_data, x='PRS_standardized', bins=30, hue='Phenotypes', kde=True, stat='density', common_norm=False)\n",
    "\n",
    "plt.title('Standardized Normal Distribution of PRS for Cases and Controls for UKBiobank Data')\n",
    "plt.xlabel('Standardized PRS')\n",
    "plt.ylabel('Density')\n",
    "plt.legend(title='Group', labels=[ 'Cases','Controls'])\n",
    "plt.show()"
   ]
  },
  {
   "cell_type": "code",
   "execution_count": null,
   "id": "4982065f",
   "metadata": {},
   "outputs": [],
   "source": [
    "# calculating the PRS deciles\n",
    "merged_data['PRS_decile']= pd.qcut(merged_data['PRS_standardized'], q=10, labels=False)\n"
   ]
  },
  {
   "cell_type": "code",
   "execution_count": null,
   "id": "de962549",
   "metadata": {},
   "outputs": [],
   "source": [
    "# counting hte number of indv (cases vs controls)\n",
    "decile_counts = merged_data.groupby(['PRS_decile', 'Phenotypes']).size().unstack(fill_value=0)\n"
   ]
  },
  {
   "cell_type": "code",
   "execution_count": null,
   "id": "1a00cdc0",
   "metadata": {},
   "outputs": [],
   "source": [
    "# calculatin the propitons \n",
    "decile_proportions = decile_counts.div(decile_counts.sum(axis=1), axis=0)\n"
   ]
  },
  {
   "cell_type": "code",
   "execution_count": null,
   "id": "967e135a",
   "metadata": {},
   "outputs": [],
   "source": [
    "plt.figure(figsize=(12, 6))\n",
    "barplot = sns.barplot(x=decile_proportions.index, y=decile_proportions[1], color='darkorange', label='Cases')\n",
    "sns.barplot(x=decile_proportions.index, y=decile_proportions[0], color='skyblue', label='Controls', bottom=decile_proportions[1])\n",
    "\n",
    "\n",
    "for p, case_count in zip(barplot.patches, decile_counts[1]):\n",
    "    height = p.get_height()\n",
    "    ymin, ymax = plt.ylim()\n",
    "    position = ymax - 0.99 * (ymax - ymin) \n",
    "    barplot.text(p.get_x() + p.get_width() / 2,\n",
    "                 position,\n",
    "                 f'{case_count}',\n",
    "                 ha='center')\n",
    "\n",
    "# Annotate each bar with separate counts for controls\n",
    "for p, control_count in zip(barplot.patches, decile_counts[0]):\n",
    "    height = p.get_height() + decile_proportions[1]\n",
    "    ymin, ymax = plt.ylim()\n",
    "    position = ymax - 0.1 * (ymax - ymin) \n",
    "    barplot.text(p.get_x() + p.get_width() / 2,\n",
    "                 position,\n",
    "                 f'{control_count}',\n",
    "                 ha='center')\n",
    "    \n",
    "plt.title('Proportion of Cases and Controls in PRS Deciles with Counts')\n",
    "plt.xlabel('PRS Decile')\n",
    "plt.ylabel('Proportion')\n",
    "plt.legend(loc='upper left', bbox_to_anchor=(1, 1))\n",
    "plt.show()\n",
    "\n",
    "plt.figure(figsize=(18, 10))\n"
   ]
  },
  {
   "cell_type": "code",
   "execution_count": null,
   "id": "cb2d0a61",
   "metadata": {},
   "outputs": [],
   "source": [
    "import numpy as np\n",
    "import scipy.stats as stats\n",
    "\n",
    "# Calculate mean and standard deviation for cases and controls\n",
    "mean_cases = np.mean(merged_data.loc[merged_data['Phenotypes'] == 1, 'PRS_standardized'])\n",
    "mean_controls = np.mean(merged_data.loc[merged_data['Phenotypes'] == 0, 'PRS_standardized'])\n",
    "\n",
    "std_cases = np.std(merged_data.loc[merged_data['Phenotypes'] == 1, 'PRS_standardized'])\n",
    "std_controls = np.std(merged_data.loc[merged_data['Phenotypes'] == 0, 'PRS_standardized'])\n",
    "\n",
    "# Calculate sample size for cases and controls\n",
    "n_cases = len(merged_data.loc[merged_data['Phenotypes'] == 1, 'PRS_standardized'])\n",
    "n_controls = len(merged_data.loc[merged_data['Phenotypes'] == 0, 'PRS_standardized'])\n",
    "\n",
    "# Calculate pooled standard error of the mean difference\n",
    "se_mean_diff = np.sqrt((std_cases**2 / n_cases) + (std_controls**2 / n_controls))\n",
    "\n",
    "# Calculate t-statistic\n",
    "t_statistic = (mean_cases - mean_controls) / se_mean_diff\n",
    "\n",
    "# Calculate degrees of freedom\n",
    "df = n_cases + n_controls - 2\n",
    "\n",
    "# Calculate two-sided p-value\n",
    "p_value = stats.t.sf(np.abs(t_statistic), df) * 2\n",
    "\n",
    "# Calculate 95% confidence interval for the mean difference\n",
    "diff_ci = stats.t.interval(0.95, df, loc=(mean_cases - mean_controls), scale=se_mean_diff)\n",
    "\n",
    "# Format the output\n",
    "mean_diff = mean_cases - mean_controls\n",
    "output = f\"Mean PRS for Cases: {mean_cases:.4f} ± {std_cases:.4f}\\n\" \\\n",
    "         f\"Mean PRS for Controls: {mean_controls:.4f} ± {std_controls:.4f}\\n\" \\\n",
    "         f\"Mean difference (Cases - Controls): {mean_diff:.4f}\\n\" \\\n",
    "         f\"95% CI for the mean difference: {diff_ci}\\n\" \\\n",
    "         f\"P-value: {p_value:.4f}\"\n",
    "\n",
    "print(output)\n"
   ]
  },
  {
   "cell_type": "code",
   "execution_count": null,
   "id": "40d44545",
   "metadata": {},
   "outputs": [],
   "source": [
    "# Extract counts for the first (lowest) and tenth (highest) deciles\n",
    "cases_1st_decile = decile_counts.loc[decile_counts.index.min(), 1]\n",
    "controls_1st_decile = decile_counts.loc[decile_counts.index.min(), 0]\n",
    "cases_10th_decile = decile_counts.loc[decile_counts.index.max(), 1]\n",
    "controls_10th_decile = decile_counts.loc[decile_counts.index.max(), 0]\n",
    "\n",
    "# Calculate odds for the first and tenth deciles\n",
    "odds_1st_decile = cases_1st_decile / controls_1st_decile\n",
    "odds_10th_decile = cases_10th_decile / controls_10th_decile\n",
    "\n",
    "# Calculate odds ratio\n",
    "odds_ratio = odds_10th_decile / odds_1st_decile\n",
    "\n",
    "# Calculate the standard error (SE) of the log odds ratio\n",
    "log_odds_1st_decile = np.log(odds_1st_decile)\n",
    "log_odds_10th_decile = np.log(odds_10th_decile)\n",
    "\n",
    "SE_log_OR = np.sqrt(1 / cases_1st_decile + 1 / controls_1st_decile + 1 / cases_10th_decile + 1 / controls_10th_decile)\n",
    "\n",
    "# Calculate the 95% CI for the odds ratio\n",
    "CI_lower = np.exp(np.log(odds_ratio) - 1.96 * SE_log_OR)\n",
    "CI_upper = np.exp(np.log(odds_ratio) + 1.96 * SE_log_OR)\n",
    "\n",
    "print(f'Odds Ratio between the highest and lowest risk deciles: {odds_ratio:.2f}')\n",
    "print(f'95% CI: [{CI_lower:.2f}, {CI_upper:.2f}]')"
   ]
  },
  {
   "cell_type": "code",
   "execution_count": null,
   "id": "71f30758",
   "metadata": {},
   "outputs": [],
   "source": [
    "## OKay so ROC and AUC - \n",
    "\n",
    "X = merged_data[['PRS_standardized']]\n",
    "y = merged_data['Phenotypes']\n",
    "\n",
    "# Standardize the PRS data\n",
    "scaler = StandardScaler()\n",
    "X_standardized = scaler.fit_transform(X)"
   ]
  },
  {
   "cell_type": "code",
   "execution_count": null,
   "id": "f566a3a2",
   "metadata": {},
   "outputs": [],
   "source": [
    "\n",
    "#ROC curve\n",
    "fpr, tpr, thresholds = roc_curve(y, X)\n",
    "\n",
    "#AUC score\n",
    "roc_auc = auc(fpr, tpr)\n",
    "\n",
    "# Plotting the ROC curve\n",
    "plt.figure(figsize=(8, 8))\n",
    "plt.plot(fpr, tpr, color='darkorange', lw=2, label=f'AUC = {roc_auc:.2f}')\n",
    "plt.plot([0, 1], [0, 1], color='navy', lw=2, linestyle='--')\n",
    "plt.xlim([0.0, 1.0])\n",
    "plt.ylim([0.0, 1.05])\n",
    "plt.xlabel('False Positive Rate (FPR)')\n",
    "plt.ylabel('True Positive Rate (TPR)')\n",
    "plt.title('Receiver Operating Characteristic (ROC) Curve')\n",
    "plt.legend(loc='lower right')\n",
    "plt.show()\n",
    "\n"
   ]
  },
  {
   "cell_type": "code",
   "execution_count": null,
   "id": "18503eda",
   "metadata": {},
   "outputs": [],
   "source": [
    "# T-test to see the difference b/w the means\n",
    "#using ttest_ind because its not paired- cases and controls are independant \n",
    "\n",
    "t_statistic, p_value = ttest_ind(cases, controls, equal_var=False)\n",
    "print(f'T-stat: {t_statistic:.4f}')\n",
    "print(f'P-value: {p_value:.10g}')\n",
    "p_value\n",
    "\n",
    "#confused with the p-value? Thats too perfect "
   ]
  },
  {
   "cell_type": "code",
   "execution_count": null,
   "id": "708ddac2",
   "metadata": {},
   "outputs": [],
   "source": [
    "print (statistics.mean(cases))\n",
    "print (statistics.mean(controls))"
   ]
  },
  {
   "cell_type": "code",
   "execution_count": null,
   "id": "97c481da",
   "metadata": {},
   "outputs": [],
   "source": []
  },
  {
   "cell_type": "code",
   "execution_count": null,
   "id": "b4cc01ca",
   "metadata": {},
   "outputs": [],
   "source": [
    "import os\n",
    "# Create a new figure for the combined plots\n",
    "plt.figure(figsize=(21, 6))  # Increase the width to add more space between the plots\n",
    "\n",
    "# Plot 1: Standardized Normal Distribution of PRS\n",
    "plt.subplot(1, 3, 1)\n",
    "scaler = StandardScaler()\n",
    "merged_data['PRS_standardized'] = scaler.fit_transform(merged_data['Combined_PRS'].values.reshape(-1, 1))\n",
    "sns.histplot(data=merged_data, x='PRS_standardized', bins=30, hue='Phenotypes', kde=True, stat='density', common_norm=False)\n",
    "plt.xlabel('Standardized PRS', fontsize=16)\n",
    "plt.ylabel('Density', fontsize=16)\n",
    "plt.tick_params(axis='both', which='major', labelsize=12)\n",
    "plt.legend( labels=['Cases', 'Controls'], fontsize=12, frameon=False)\n",
    "plt.text(-0.1, 1, '(A)', color='black', fontsize=16, va='center', ha='left', transform=plt.gca().transAxes, fontweight='bold')\n",
    "\n",
    "\n",
    "# Plot 2: Proportion of Cases and Controls in PRS Deciles\n",
    "plt.subplot(1, 3, 2)\n",
    "barplot = sns.barplot(x=decile_proportions.index, y=decile_proportions[1], color='darkorange', label='Cases')\n",
    "sns.barplot(x=decile_proportions.index, y=decile_proportions[0], color='skyblue', label='Controls', bottom=decile_proportions[1])\n",
    "\n",
    "for i, p in enumerate(barplot.patches[:10]):\n",
    "    height = p.get_height()\n",
    "    ymin, ymax = plt.ylim()\n",
    "    position = ymax - 0.99 * (ymax - ymin)\n",
    "    barplot.text(p.get_x() + p.get_width() / 2, position, f'{decile_counts[1][i]}', ha='center')\n",
    "\n",
    "for i, p in enumerate(barplot.patches[10:]):\n",
    "    height = p.get_height() + decile_proportions[1][i]\n",
    "    ymin, ymax = plt.ylim()\n",
    "    position = ymax - 0.1 * (ymax - ymin)\n",
    "    barplot.text(p.get_x() + p.get_width() / 2, position, f'{decile_counts[0][i]}', ha='center')\n",
    "\n",
    "plt.xticks(np.arange(0, 10), ['1', '2', '3', '4', '5', '6', '7', '8', '9', '10'])\n",
    "plt.xlabel('PRS Decile', fontsize=16)\n",
    "plt.ylabel('Proportion', fontsize=16)\n",
    "plt.tick_params(axis='both', which='major', labelsize=12)\n",
    "plt.text(-0.1, 1, '(B)', color='black', fontsize=16, va='center', ha='left', transform=plt.gca().transAxes, fontweight='bold')\n",
    "\n",
    "# Custom legend for Cases and Controls\n",
    "plt.legend([], frameon=False)\n",
    "plt.text(1.02, 0.1, 'Cases', color='darkorange', fontsize=14, va='center', ha='left', transform=plt.gca().transAxes, rotation=90, fontweight='bold')\n",
    "plt.text(1.02, 0.8, 'Controls', color='skyblue', fontsize=14, va='center', ha='left', transform=plt.gca().transAxes, rotation=90, fontweight='bold')\n",
    "\n",
    "# Plot 3: ROC Curve\n",
    "plt.subplot(1, 3, 3)\n",
    "fpr, tpr, thresholds = roc_curve(y, X_standardized)\n",
    "roc_auc = auc(fpr, tpr)\n",
    "plt.plot(fpr, tpr, color='darkorange', lw=2, label=f'AUC = {roc_auc:.2f}')\n",
    "plt.plot([0, 1], [0, 1], color='navy', lw=2, linestyle='--')\n",
    "plt.xlim([0.0, 1.0])\n",
    "plt.ylim([0.0, 1.05])\n",
    "plt.xlabel('False Positive Rate (FPR)', fontsize=16)\n",
    "plt.ylabel('True Positive Rate (TPR)', fontsize=16)\n",
    "plt.tick_params(axis='both', which='major', labelsize=12)\n",
    "plt.legend(loc='lower right', frameon=False, fontsize=14)  # Increase font size for the legend\n",
    "plt.text(-0.1, 1, '(C)', color='black', fontsize=16, va='center', ha='left', transform=plt.gca().transAxes, fontweight='bold')\n",
    "\n",
    "# Display the combined figure\n",
    "plt.tight_layout()\n",
    "# Save the figure\n",
    "folder_path = '/mnt/shared_folders/eResearch_glaucoma_project/Sirithi/Graph_Images/facet_plots/'\n",
    "file_path = os.path.join(folder_path, 'POAG_Crag_PRS_addition_allindv.pdf')\n",
    "\n",
    "# Ensure the folder exists and save the figure\n",
    "os.makedirs(folder_path, exist_ok=True)\n",
    "plt.savefig(file_path)\n",
    "\n",
    "plt.close()\n",
    "\n"
   ]
  },
  {
   "cell_type": "markdown",
   "id": "705d68f1",
   "metadata": {},
   "source": [
    "### Lets look at TD "
   ]
  },
  {
   "cell_type": "code",
   "execution_count": null,
   "id": "9af6a059",
   "metadata": {},
   "outputs": [],
   "source": [
    "#importing the PRSice-2 output .best file (converetd into .txt in terminal). Here I add the sep to seperate the column names with a comma) \n",
    "df_POAG = pd.read_table('/mnt/shared_folders/eResearch_glaucoma_project/Sirithi/Glaucoma_definition/PRS_outcomes/Treated_diagnosed.best', sep=r'\\s+',header=0, encoding='ascii',engine='python')\n",
    "df_Craig = pd.read_table('/mnt/shared_folders/eResearch_glaucoma_project/Sirithi/Glaucoma_definition/PRS_outcomes/Craig_Treated_diagnosed.best', sep=r'\\s+',header=0, encoding='ascii',engine='python')\n"
   ]
  },
  {
   "cell_type": "code",
   "execution_count": null,
   "id": "dfad2934",
   "metadata": {},
   "outputs": [],
   "source": [
    "#importing the case control file \n",
    "df_cc = pd.read_table('/mnt/shared_folders/eResearch_glaucoma_project/Sirithi/16_02_new_case_control_and_cov_file/Treated_diagnosed_case_control.txt', sep=r'\\s+',header=0, encoding='ascii',engine='python')"
   ]
  },
  {
   "cell_type": "code",
   "execution_count": null,
   "id": "bfc857e4",
   "metadata": {},
   "outputs": [],
   "source": [
    "4# Thought I should only use data thats used in the regression model\n",
    "df_POAG_filtered = df_POAG[df_POAG['In_Regression'] == 'Yes']\n",
    "df_Craig_filtered = df_Craig[df_Craig['In_Regression'] == 'Yes']"
   ]
  },
  {
   "cell_type": "code",
   "execution_count": null,
   "id": "aec0cc28",
   "metadata": {},
   "outputs": [],
   "source": [
    "#drop NA\n",
    "df_POAG_filtered = df_POAG_filtered.dropna(subset=['PRS'])\n",
    "df_Craig_filtered = df_Craig_filtered.dropna(subset=['PRS'])"
   ]
  },
  {
   "cell_type": "code",
   "execution_count": null,
   "id": "b52e9053",
   "metadata": {},
   "outputs": [],
   "source": [
    "# convert PRS column to numeric\n",
    "df_POAG_filtered['PRS'] = pd.to_numeric(df_POAG_filtered['PRS'], errors='coerce')\n",
    "df_Craig_filtered['PRS'] = pd.to_numeric(df_Craig_filtered['PRS'], errors='coerce')"
   ]
  },
  {
   "cell_type": "code",
   "execution_count": null,
   "id": "9b73fde2",
   "metadata": {},
   "outputs": [],
   "source": [
    "print(df_Craig_filtered)"
   ]
  },
  {
   "cell_type": "code",
   "execution_count": null,
   "id": "d2538425",
   "metadata": {},
   "outputs": [],
   "source": [
    "# Merge the two PRS files based on common columns (FID and IID)\n",
    "merged_prs = pd.merge(df_Craig_filtered, df_POAG_filtered, on=['FID', 'IID'])\n"
   ]
  },
  {
   "cell_type": "code",
   "execution_count": null,
   "id": "7db075e0",
   "metadata": {},
   "outputs": [],
   "source": [
    "print(merged_prs)"
   ]
  },
  {
   "cell_type": "code",
   "execution_count": null,
   "id": "608ee3a9",
   "metadata": {},
   "outputs": [],
   "source": [
    "# Add the PRS from both files\n",
    "merged_prs['Combined_PRS'] = merged_prs['PRS_x'] + merged_prs['PRS_y']\n"
   ]
  },
  {
   "cell_type": "code",
   "execution_count": null,
   "id": "87f13f59",
   "metadata": {},
   "outputs": [],
   "source": [
    "# Merge the merged PRS with the case-control file based on common columns (FID and IID)\n",
    "merged_data = pd.merge(merged_prs, df_cc, on=['FID', 'IID'])\n"
   ]
  },
  {
   "cell_type": "code",
   "execution_count": null,
   "id": "03fde2f9",
   "metadata": {},
   "outputs": [],
   "source": [
    "# Separate the data into cases and controls based on 'Phenotypes'\n",
    "cases = merged_data[merged_data['Phenotypes'] == 1]['Combined_PRS']\n",
    "controls = merged_data[merged_data['Phenotypes'] == 0]['Combined_PRS']\n"
   ]
  },
  {
   "cell_type": "code",
   "execution_count": null,
   "id": "18c12a39",
   "metadata": {},
   "outputs": [],
   "source": [
    "# standardize the PRS data\n",
    "scaler = StandardScaler()\n",
    "merged_data['PRS_standardized'] = scaler.fit_transform(merged_data['Combined_PRS'].values.reshape(-1, 1))\n",
    "\n",
    "# plot the standardized normal distribution curves with different colors and make it prety\n",
    "plt.figure(figsize=(10, 6))\n",
    "sns.histplot(data=merged_data, x='PRS_standardized', bins=30, hue='Phenotypes', kde=True, stat='density', common_norm=False)\n",
    "\n",
    "plt.title('Standardized Normal Distribution of PRS for Cases and Controls for UKBiobank Data')\n",
    "plt.xlabel('Standardized PRS')\n",
    "plt.ylabel('Density')\n",
    "plt.legend(title='Group', labels=[ 'Cases','Controls'])\n",
    "plt.show()"
   ]
  },
  {
   "cell_type": "code",
   "execution_count": null,
   "id": "a4f79393",
   "metadata": {},
   "outputs": [],
   "source": [
    "# Calculate summary statistics for cases and controls\n",
    "summary_stats = merged_data.groupby('Phenotypes')['PRS_standardized'].agg(['mean', 'median', 'std', lambda x: x.quantile(0.25), lambda x: x.quantile(0.75)])\n",
    "summary_stats.columns = ['Mean', 'Median', 'Standard Deviation', '25th Percentile (Q1)', '75th Percentile (Q3)']\n",
    "summary_stats['IQR'] = summary_stats['75th Percentile (Q3)'] - summary_stats['25th Percentile (Q1)']\n",
    "\n",
    "# Display the summary statistics\n",
    "print(summary_stats)"
   ]
  },
  {
   "cell_type": "code",
   "execution_count": null,
   "id": "f9f6f8fa",
   "metadata": {},
   "outputs": [],
   "source": [
    "# calculating the PRS deciles\n",
    "merged_data['PRS_decile']= pd.qcut(merged_data['PRS_standardized'], q=10, labels=False)\n"
   ]
  },
  {
   "cell_type": "code",
   "execution_count": null,
   "id": "4d67fbf1",
   "metadata": {},
   "outputs": [],
   "source": [
    "# counting hte number of indv (cases vs controls)\n",
    "decile_counts = merged_data.groupby(['PRS_decile', 'Phenotypes']).size().unstack(fill_value=0)\n"
   ]
  },
  {
   "cell_type": "code",
   "execution_count": null,
   "id": "e2665b71",
   "metadata": {},
   "outputs": [],
   "source": [
    "# calculatin the propitons \n",
    "decile_proportions = decile_counts.div(decile_counts.sum(axis=1), axis=0)\n"
   ]
  },
  {
   "cell_type": "code",
   "execution_count": null,
   "id": "3e7a32ce",
   "metadata": {},
   "outputs": [],
   "source": [
    "plt.figure(figsize=(12, 6))\n",
    "barplot = sns.barplot(x=decile_proportions.index, y=decile_proportions[1], color='darkorange', label='Cases')\n",
    "sns.barplot(x=decile_proportions.index, y=decile_proportions[0], color='skyblue', label='Controls', bottom=decile_proportions[1])\n",
    "\n",
    "\n",
    "for p, case_count in zip(barplot.patches, decile_counts[1]):\n",
    "    height = p.get_height()\n",
    "    ymin, ymax = plt.ylim()\n",
    "    position = ymax - 0.99 * (ymax - ymin) \n",
    "    barplot.text(p.get_x() + p.get_width() / 2,\n",
    "                 position,\n",
    "                 f'{case_count}',\n",
    "                 ha='center')\n",
    "\n",
    "# Annotate each bar with separate counts for controls\n",
    "for p, control_count in zip(barplot.patches, decile_counts[0]):\n",
    "    height = p.get_height() + decile_proportions[1]\n",
    "    ymin, ymax = plt.ylim()\n",
    "    position = ymax - 0.1 * (ymax - ymin) \n",
    "    barplot.text(p.get_x() + p.get_width() / 2,\n",
    "                 position,\n",
    "                 f'{control_count}',\n",
    "                 ha='center')\n",
    "    \n",
    "plt.title('Proportion of Cases and Controls in PRS Deciles with Counts')\n",
    "plt.xlabel('PRS Decile')\n",
    "plt.ylabel('Proportion')\n",
    "plt.legend(loc='upper left', bbox_to_anchor=(1, 1))\n",
    "plt.show()\n",
    "\n",
    "plt.figure(figsize=(18, 10))\n"
   ]
  },
  {
   "cell_type": "code",
   "execution_count": null,
   "id": "fdd2a0d0",
   "metadata": {},
   "outputs": [],
   "source": [
    "## OKay so ROC and AUC - \n",
    "\n",
    "X = merged_data[['PRS_standardized']]\n",
    "y = merged_data['Phenotypes']\n",
    "\n",
    "# Standardize the PRS data\n",
    "scaler = StandardScaler()\n",
    "X_standardized = scaler.fit_transform(X)"
   ]
  },
  {
   "cell_type": "code",
   "execution_count": null,
   "id": "09d5bc91",
   "metadata": {},
   "outputs": [],
   "source": [
    "\n",
    "#ROC curve\n",
    "fpr, tpr, thresholds = roc_curve(y, X)\n",
    "\n",
    "#AUC score\n",
    "roc_auc = auc(fpr, tpr)\n",
    "\n",
    "# Plotting the ROC curve\n",
    "plt.figure(figsize=(8, 8))\n",
    "plt.plot(fpr, tpr, color='darkorange', lw=2, label=f'AUC = {roc_auc:.2f}')\n",
    "plt.plot([0, 1], [0, 1], color='navy', lw=2, linestyle='--')\n",
    "plt.xlim([0.0, 1.0])\n",
    "plt.ylim([0.0, 1.05])\n",
    "plt.xlabel('False Positive Rate (FPR)')\n",
    "plt.ylabel('True Positive Rate (TPR)')\n",
    "plt.title('Receiver Operating Characteristic (ROC) Curve')\n",
    "plt.legend(loc='lower right')\n",
    "plt.show()\n",
    "\n"
   ]
  },
  {
   "cell_type": "code",
   "execution_count": null,
   "id": "90dbd52f",
   "metadata": {},
   "outputs": [],
   "source": [
    "# T-test to see the difference b/w the means\n",
    "#using ttest_ind because its not paired- cases and controls are independant \n",
    "\n",
    "t_statistic, p_value = ttest_ind(cases, controls, equal_var=False)\n",
    "print(f'T-stat: {t_statistic:.4f}')\n",
    "print(f'P-value: {p_value:.10g}')\n",
    "p_value\n",
    "\n",
    "#confused with the p-value? Thats too perfect "
   ]
  },
  {
   "cell_type": "code",
   "execution_count": null,
   "id": "b237a68f",
   "metadata": {},
   "outputs": [],
   "source": [
    "\n",
    "# Create a new figure for the combined plots\n",
    "plt.figure(figsize=(21, 6))  # Increase the width to add more space between the plots\n",
    "\n",
    "# Plot 1: Standardized Normal Distribution of PRS\n",
    "plt.subplot(1, 3, 1)\n",
    "scaler = StandardScaler()\n",
    "merged_data['PRS_standardized'] = scaler.fit_transform(merged_data['Combined_PRS'].values.reshape(-1, 1))\n",
    "sns.histplot(data=merged_data, x='PRS_standardized', bins=30, hue='Phenotypes', kde=True, stat='density', common_norm=False)\n",
    "plt.xlabel('Standardized PRS', fontsize=16)\n",
    "plt.ylabel('Density', fontsize=16)\n",
    "plt.tick_params(axis='both', which='major', labelsize=12)\n",
    "plt.legend( labels=['Cases', 'Controls'], fontsize=12, frameon=False)\n",
    "plt.text(-0.1, 1, '(A)', color='black', fontsize=16, va='center', ha='left', transform=plt.gca().transAxes, fontweight='bold')\n",
    "\n",
    "\n",
    "# Plot 2: Proportion of Cases and Controls in PRS Deciles\n",
    "plt.subplot(1, 3, 2)\n",
    "barplot = sns.barplot(x=decile_proportions.index, y=decile_proportions[1], color='darkorange', label='Cases')\n",
    "sns.barplot(x=decile_proportions.index, y=decile_proportions[0], color='skyblue', label='Controls', bottom=decile_proportions[1])\n",
    "\n",
    "for i, p in enumerate(barplot.patches[:10]):\n",
    "    height = p.get_height()\n",
    "    ymin, ymax = plt.ylim()\n",
    "    position = ymax - 0.99 * (ymax - ymin)\n",
    "    barplot.text(p.get_x() + p.get_width() / 2, position, f'{decile_counts[1][i]}', ha='center')\n",
    "\n",
    "for i, p in enumerate(barplot.patches[10:]):\n",
    "    height = p.get_height() + decile_proportions[1][i]\n",
    "    ymin, ymax = plt.ylim()\n",
    "    position = ymax - 0.1 * (ymax - ymin)\n",
    "    barplot.text(p.get_x() + p.get_width() / 2, position, f'{decile_counts[0][i]}', ha='center')\n",
    "\n",
    "plt.xticks(np.arange(0, 10), ['1', '2', '3', '4', '5', '6', '7', '8', '9', '10'])\n",
    "plt.xlabel('PRS Decile', fontsize=16)\n",
    "plt.ylabel('Proportion', fontsize=16)\n",
    "plt.tick_params(axis='both', which='major', labelsize=12)\n",
    "plt.text(-0.1, 1, '(B)', color='black', fontsize=16, va='center', ha='left', transform=plt.gca().transAxes, fontweight='bold')\n",
    "\n",
    "# Custom legend for Cases and Controls\n",
    "plt.legend([], frameon=False)\n",
    "plt.text(1.02, 0.1, 'Cases', color='darkorange', fontsize=14, va='center', ha='left', transform=plt.gca().transAxes, rotation=90, fontweight='bold')\n",
    "plt.text(1.02, 0.8, 'Controls', color='skyblue', fontsize=14, va='center', ha='left', transform=plt.gca().transAxes, rotation=90, fontweight='bold')\n",
    "\n",
    "# Plot 3: ROC Curve\n",
    "plt.subplot(1, 3, 3)\n",
    "fpr, tpr, thresholds = roc_curve(y, X_standardized)\n",
    "roc_auc = auc(fpr, tpr)\n",
    "plt.plot(fpr, tpr, color='darkorange', lw=2, label=f'AUC = {roc_auc:.2f}')\n",
    "plt.plot([0, 1], [0, 1], color='navy', lw=2, linestyle='--')\n",
    "plt.xlim([0.0, 1.0])\n",
    "plt.ylim([0.0, 1.05])\n",
    "plt.xlabel('False Positive Rate (FPR)', fontsize=16)\n",
    "plt.ylabel('True Positive Rate (TPR)', fontsize=16)\n",
    "plt.tick_params(axis='both', which='major', labelsize=12)\n",
    "plt.legend(loc='lower right', frameon=False, fontsize=14)  # Increase font size for the legend\n",
    "plt.text(-0.1, 1, '(C)', color='black', fontsize=16, va='center', ha='left', transform=plt.gca().transAxes, fontweight='bold')\n",
    "\n",
    "# Display the combined figure\n",
    "plt.tight_layout()\n",
    "# Save the figure\n",
    "folder_path = '/mnt/shared_folders/eResearch_glaucoma_project/Sirithi/Graph_Images/facet_plots/'\n",
    "file_path = os.path.join(folder_path, 'POAG_Crag_PRS_addition_TD.pdf')\n",
    "\n",
    "# Ensure the folder exists and save the figure\n",
    "os.makedirs(folder_path, exist_ok=True)\n",
    "plt.savefig(file_path)\n",
    "\n",
    "plt.close()"
   ]
  },
  {
   "cell_type": "code",
   "execution_count": null,
   "id": "ba6f397b",
   "metadata": {},
   "outputs": [],
   "source": []
  },
  {
   "cell_type": "code",
   "execution_count": null,
   "id": "d5d7d071",
   "metadata": {},
   "outputs": [],
   "source": [
    "\n",
    "# Save the figure\n",
    "folder_path = '/mnt/shared_folders/eResearch_glaucoma_project/Sirithi/Graph_Images/facet_plots/'\n",
    "file_path = os.path.join(folder_path, 'POAG_Crag_PRS_addition_TD.pdf')\n",
    "\n",
    "# Ensure the folder exists and save the figure\n",
    "os.makedirs(folder_path, exist_ok=True)\n",
    "plt.savefig(file_path)\n",
    "\n",
    "plt.close()"
   ]
  }
 ],
 "metadata": {
  "kernelspec": {
   "display_name": "Python 3 (ipykernel)",
   "language": "python",
   "name": "python3"
  },
  "language_info": {
   "codemirror_mode": {
    "name": "ipython",
    "version": 3
   },
   "file_extension": ".py",
   "mimetype": "text/x-python",
   "name": "python",
   "nbconvert_exporter": "python",
   "pygments_lexer": "ipython3",
   "version": "3.8.10"
  }
 },
 "nbformat": 4,
 "nbformat_minor": 5
}
