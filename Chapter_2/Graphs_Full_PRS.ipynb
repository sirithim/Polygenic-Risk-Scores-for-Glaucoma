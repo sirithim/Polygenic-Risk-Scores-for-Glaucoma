{
 "cells": [
  {
   "cell_type": "code",
   "execution_count": null,
   "id": "8a5fa315",
   "metadata": {},
   "outputs": [],
   "source": [
    "import matplotlib.pyplot as plt\n",
    "import pandas as pd\n",
    "import numpy as np\n",
    "import seaborn as sns\n",
    "from scipy.stats import norm\n",
    "from sklearn.preprocessing import StandardScaler\n",
    "from sklearn.metrics import roc_curve, auc\n",
    "from scipy.stats import ttest_ind\n",
    "import statistics\n",
    "import os\n",
    "from sklearn.utils import resample\n",
    "from matplotlib.patches import Rectangle\n"
   ]
  },
  {
   "cell_type": "code",
   "execution_count": null,
   "id": "920ab93e",
   "metadata": {},
   "outputs": [],
   "source": [
    "#importing the PRSice-2 output .best file (converetd into .txt in terminal). Here I add the sep to seperate the column names with a comma) \n",
    "df_prs = pd.read_table('/mnt/shared_folders/eResearch_glaucoma_project/Sirithi/16_02_new_case_control_and_cov_file/PRS_output/trialcheck2.best', sep=r'\\s+',header=0, encoding='ascii',engine='python')\n"
   ]
  },
  {
   "cell_type": "code",
   "execution_count": null,
   "id": "44a8906a",
   "metadata": {},
   "outputs": [],
   "source": [
    "#importing the case control file \n",
    "df_cc = pd.read_table('/mnt/shared_folders/eResearch_glaucoma_project/Sirithi/16_02_new_case_control_and_cov_file/new_case_control.txt', sep=r'\\s+',header=0, encoding='ascii',engine='python')"
   ]
  },
  {
   "cell_type": "code",
   "execution_count": null,
   "id": "bd8440cd",
   "metadata": {},
   "outputs": [],
   "source": [
    "#count_ones = (df_cc['Phenotypes'] == 1).sum()\n",
    "\n",
    "#print(\"Number of occurrences of 1 in the 'Phenotype' column:\", count_ones)\n",
    "print(df_cc.head)"
   ]
  },
  {
   "cell_type": "code",
   "execution_count": null,
   "id": "37e01fec",
   "metadata": {},
   "outputs": [],
   "source": [
    "4# Thought I should only use data thats used in the regression model\n",
    "df_prs_filtered = df_prs[df_prs['In_Regression'] == 'Yes']\n",
    "print(df_prs_filtered.head())"
   ]
  },
  {
   "cell_type": "code",
   "execution_count": null,
   "id": "c3a94f88",
   "metadata": {},
   "outputs": [],
   "source": [
    "df_prs_filtered = df_prs_filtered.dropna(subset=['PRS'])"
   ]
  },
  {
   "cell_type": "code",
   "execution_count": null,
   "id": "4e6d6ea7",
   "metadata": {},
   "outputs": [],
   "source": [
    "# convert PRS column to numeric\n",
    "df_prs_filtered['PRS'] = pd.to_numeric(df_prs_filtered['PRS'], errors='coerce')"
   ]
  },
  {
   "cell_type": "code",
   "execution_count": null,
   "id": "d1e7cbb6",
   "metadata": {},
   "outputs": [],
   "source": [
    "#Merge the dfs\n",
    "merged_df = pd.merge(df_prs_filtered, df_cc, on=['FID', 'IID'])"
   ]
  },
  {
   "cell_type": "code",
   "execution_count": null,
   "id": "3d5a1ac0",
   "metadata": {},
   "outputs": [],
   "source": [
    "# separate the data into cases and controls\n",
    "cases = merged_df[merged_df['Phenotypes'] == 1]['PRS']\n",
    "controls = merged_df[merged_df['Phenotypes'] == 0]['PRS']"
   ]
  },
  {
   "cell_type": "code",
   "execution_count": null,
   "id": "6e560cff",
   "metadata": {},
   "outputs": [],
   "source": [
    "print(merged_df)"
   ]
  },
  {
   "cell_type": "code",
   "execution_count": null,
   "id": "60689af5",
   "metadata": {},
   "outputs": [],
   "source": [
    "# plotting the normal distribution curves\n",
    "\n",
    "sns.set_style(\"darkgrid\")\n",
    "\n",
    "# plotting the normal distribution curves\n",
    "plt.figure(figsize=(10, 6))\n",
    "sns.histplot(cases, kde=True, label='Cases', color='orange', stat='density', common_norm=False)\n",
    "sns.histplot(controls, kde=True, label='Controls', color='dodgerblue', stat='density', common_norm=False)\n",
    "\n",
    "# Removing axis labels\n",
    "plt.xlabel('')\n",
    "plt.ylabel('')\n",
    "\n",
    "# Adding a grey block with the title in the center\n",
    "title_text = 'Trial04'\n",
    "title_box = Rectangle((0, 1.03), 1, 0.05, fill=True, color='lightgrey', alpha=0.5, edgecolor='none', transform=plt.gca().transAxes)\n",
    "plt.gca().add_patch(title_box)\n",
    "plt.text(0.5, 1.05, title_text, horizontalalignment='center', verticalalignment='center', transform=plt.gca().transAxes, fontsize=14)\n",
    "\n",
    "plt.subplots_adjust(top=0.9)\n",
    "\n",
    "# Removing the border\n",
    "plt.gca().spines['top'].set_visible(False)\n",
    "plt.gca().spines['right'].set_visible(False)\n",
    "\n",
    "plt.show()\n",
    "\n",
    "#plt.savefig('/mnt/shared_folders/eResearch_glaucoma_project/Sirithi/Graph_Images/Normal_distribution/Trial04.png')"
   ]
  },
  {
   "cell_type": "code",
   "execution_count": null,
   "id": "35ba2fa0",
   "metadata": {
    "scrolled": true
   },
   "outputs": [],
   "source": [
    "# standardize the PRS data\n",
    "scaler = StandardScaler()\n",
    "merged_df['PRS_standardized'] = scaler.fit_transform(merged_df['PRS'].values.reshape(-1, 1))\n",
    "\n",
    "# plot the standardized normal distribution curves with different colors and make it prety\n",
    "plt.figure(figsize=(10, 6))\n",
    "\n",
    "sns.histplot(data=merged_df, x='PRS_standardized', bins=30, hue='Phenotypes', kde=True, stat='density', common_norm=False)\n",
    "\n",
    "plt.title('Standardized Normal Distribution of PRS for Cases and Controls for UKBiobank Data')\n",
    "plt.xlabel('Standardized PRS')\n",
    "plt.ylabel('Density')\n",
    "plt.legend(title='Group', labels=[ 'Cases','Controls'])\n",
    "plt.show()\n",
    "#folder_path = '/mnt/shared_folders/eResearch_glaucoma_project/Sirithi/Graph_Images/Standard_normal_distribution'\n",
    "#file_path = os.path.join(folder_path, 'trail_04.pdf')\n",
    "\n",
    "# Ensure the folder exists and save the figure\n",
    "#os.makedirs(folder_path, exist_ok=True)\n",
    "#plt.savefig(file_path)\n",
    "\n",
    "\n",
    "#plt.close()\n"
   ]
  },
  {
   "cell_type": "code",
   "execution_count": null,
   "id": "fbf04376",
   "metadata": {},
   "outputs": [],
   "source": [
    "import numpy as np\n",
    "import scipy.stats as stats\n",
    "\n",
    "# Calculate mean and standard deviation for cases and controls\n",
    "mean_cases = np.mean(merged_df.loc[merged_df['Phenotypes'] == 1, 'PRS_standardized'])\n",
    "mean_controls = np.mean(merged_df.loc[merged_df['Phenotypes'] == 0, 'PRS_standardized'])\n",
    "\n",
    "std_cases = np.std(merged_df.loc[merged_df['Phenotypes'] == 1, 'PRS_standardized'])\n",
    "std_controls = np.std(merged_df.loc[merged_df['Phenotypes'] == 0, 'PRS_standardized'])\n",
    "\n",
    "# Calculate sample size for cases and controls\n",
    "n_cases = len(merged_df.loc[merged_df['Phenotypes'] == 1, 'PRS_standardized'])\n",
    "n_controls = len(merged_df.loc[merged_df['Phenotypes'] == 0, 'PRS_standardized'])\n",
    "\n",
    "# Calculate pooled standard error of the mean difference\n",
    "se_mean_diff = np.sqrt((std_cases**2 / n_cases) + (std_controls**2 / n_controls))\n",
    "\n",
    "# Calculate t-statistic\n",
    "t_statistic = (mean_cases - mean_controls) / se_mean_diff\n",
    "\n",
    "# Calculate degrees of freedom\n",
    "df = n_cases + n_controls - 2\n",
    "\n",
    "# Calculate two-sided p-value\n",
    "p_value = stats.t.sf(np.abs(t_statistic), df) * 2\n",
    "\n",
    "# Calculate 95% confidence interval for the mean difference\n",
    "diff_ci = stats.t.interval(0.95, df, loc=(mean_cases - mean_controls), scale=se_mean_diff)\n",
    "\n",
    "# Format the output\n",
    "mean_diff = mean_cases - mean_controls\n",
    "output = f\"Mean PRS for Cases: {mean_cases:.4f} ± {std_cases:.4f}\\n\" \\\n",
    "         f\"Mean PRS for Controls: {mean_controls:.4f} ± {std_controls:.4f}\\n\" \\\n",
    "         f\"Mean difference (Cases - Controls): {mean_diff:.4f}\\n\" \\\n",
    "         f\"95% CI for the mean difference: {diff_ci}\\n\" \\\n",
    "         f\"P-value: {p_value:.4f}\"\n",
    "\n",
    "print(output)\n"
   ]
  },
  {
   "cell_type": "code",
   "execution_count": null,
   "id": "cfc68d04",
   "metadata": {},
   "outputs": [],
   "source": [
    "## NEXT - trying to make the propotion of individuals vs PRS decile graph"
   ]
  },
  {
   "cell_type": "code",
   "execution_count": null,
   "id": "4982065f",
   "metadata": {},
   "outputs": [],
   "source": [
    "# calculating the PRS deciles\n",
    "merged_df['PRS_decile']= pd.qcut(merged_df['PRS_standardized'], q=10, labels=False)\n"
   ]
  },
  {
   "cell_type": "code",
   "execution_count": null,
   "id": "20f9ee28",
   "metadata": {},
   "outputs": [],
   "source": [
    "#just want to see how my df looks like\n",
    "print (merged_df.head())"
   ]
  },
  {
   "cell_type": "code",
   "execution_count": null,
   "id": "de962549",
   "metadata": {},
   "outputs": [],
   "source": [
    "# counting hte number of indv (cases vs controls)\n",
    "decile_counts = merged_df.groupby(['PRS_decile', 'Phenotypes']).size().unstack(fill_value=0)\n"
   ]
  },
  {
   "cell_type": "code",
   "execution_count": null,
   "id": "68e49062",
   "metadata": {
    "scrolled": false
   },
   "outputs": [],
   "source": [
    "# Print decile_counts to see the counts for each decile\n",
    "#print(\"Counts for each decile:\")\n",
    "#print(decile_counts)\n"
   ]
  },
  {
   "cell_type": "code",
   "execution_count": null,
   "id": "1a00cdc0",
   "metadata": {},
   "outputs": [],
   "source": [
    "# calculatin the propitons \n",
    "decile_proportions = decile_counts.div(decile_counts.sum(axis=1), axis=0)\n"
   ]
  },
  {
   "cell_type": "code",
   "execution_count": null,
   "id": "52355a52",
   "metadata": {},
   "outputs": [],
   "source": [
    "# Extract counts for the first (lowest) and tenth (highest) deciles\n",
    "cases_1st_decile = decile_counts.loc[decile_counts.index.min(), 1]\n",
    "controls_1st_decile = decile_counts.loc[decile_counts.index.min(), 0]\n",
    "cases_10th_decile = decile_counts.loc[decile_counts.index.max(), 1]\n",
    "controls_10th_decile = decile_counts.loc[decile_counts.index.max(), 0]\n",
    "\n",
    "# Calculate odds for the first and tenth deciles\n",
    "odds_1st_decile = cases_1st_decile / controls_1st_decile\n",
    "odds_10th_decile = cases_10th_decile / controls_10th_decile\n",
    "\n",
    "# Calculate odds ratio\n",
    "odds_ratio = odds_10th_decile / odds_1st_decile\n",
    "\n",
    "# Calculate the standard error (SE) of the log odds ratio\n",
    "log_odds_1st_decile = np.log(odds_1st_decile)\n",
    "log_odds_10th_decile = np.log(odds_10th_decile)\n",
    "\n",
    "SE_log_OR = np.sqrt(1 / cases_1st_decile + 1 / controls_1st_decile + 1 / cases_10th_decile + 1 / controls_10th_decile)\n",
    "\n",
    "# Calculate the 95% CI for the odds ratio\n",
    "CI_lower = np.exp(np.log(odds_ratio) - 1.96 * SE_log_OR)\n",
    "CI_upper = np.exp(np.log(odds_ratio) + 1.96 * SE_log_OR)\n",
    "\n",
    "print(f'Odds Ratio between the highest and lowest risk deciles: {odds_ratio:.2f}')\n",
    "print(f'95% CI: [{CI_lower:.2f}, {CI_upper:.2f}]')"
   ]
  },
  {
   "cell_type": "code",
   "execution_count": null,
   "id": "967e135a",
   "metadata": {},
   "outputs": [],
   "source": [
    "plt.figure(figsize=(12, 6))\n",
    "\n",
    "barplot = sns.barplot(x=decile_proportions.index, y=decile_proportions[1], color='darkorange', label='Cases')\n",
    "sns.barplot(x=decile_proportions.index, y=decile_proportions[0], color='skyblue', label='Controls', bottom=decile_proportions[1])\n",
    "\n",
    "\n",
    "for p, case_count in zip(barplot.patches, decile_counts[1]):\n",
    "    height = p.get_height()\n",
    "    ymin, ymax = plt.ylim()\n",
    "    position = ymax - 0.99 * (ymax - ymin) \n",
    "    barplot.text(p.get_x() + p.get_width() / 2,\n",
    "                 position,\n",
    "                 f'{case_count}',\n",
    "                 ha='center')\n",
    "\n",
    "# Annotate each bar with separate counts for controls\n",
    "for p, control_count in zip(barplot.patches, decile_counts[0]):\n",
    "    height = p.get_height() + decile_proportions[1]\n",
    "    ymin, ymax = plt.ylim()\n",
    "    position = ymax - 0.1 * (ymax - ymin) \n",
    "    barplot.text(p.get_x() + p.get_width() / 2,\n",
    "                 position,\n",
    "                 f'{control_count}',\n",
    "                 ha='center')\n",
    "\n",
    "plt.xticks(np.arange(0, 10), ['1', '2', '3', '4', '5', '6', '7', '8', '9', '10'])\n",
    "   \n",
    "plt.title('Proportion of Cases and Controls in PRS Deciles with Counts')\n",
    "plt.xlabel('PRS Decile')\n",
    "plt.ylabel('Proportion')\n",
    "plt.legend(loc='upper left', bbox_to_anchor=(1, 1))\n",
    "plt.show()\n",
    "#folder_path = '/mnt/shared_folders/eResearch_glaucoma_project/Sirithi/Graph_Images/Decile_plot'\n",
    "#file_path = os.path.join(folder_path, 'trail_04.pdf')\n",
    "\n",
    "# Ensure the folder exists and save the figure\n",
    "#os.makedirs(folder_path, exist_ok=True)\n",
    "#plt.savefig(file_path)\n",
    "\n",
    "\n",
    "#plt.close()\n"
   ]
  },
  {
   "cell_type": "code",
   "execution_count": null,
   "id": "38ed5d61",
   "metadata": {},
   "outputs": [],
   "source": [
    "\n",
    "\n",
    "folder_path = '/mnt/shared_folders/eResearch_glaucoma_project/Sirithi/Graph_Images/Decile_plot'\n",
    "file_path = os.path.join(folder_path, 'trail_04.pdf')\n",
    "\n",
    "# Ensure the folder exists and save the figure\n",
    "os.makedirs(folder_path, exist_ok=True)\n",
    "plt.savefig(file_path)\n"
   ]
  },
  {
   "cell_type": "code",
   "execution_count": null,
   "id": "71f30758",
   "metadata": {},
   "outputs": [],
   "source": [
    "## OKay so ROC and AUC - \n",
    "\n",
    "X = merged_df[['PRS']]\n",
    "y = merged_df['Phenotypes']\n",
    "\n",
    "# Standardize the PRS data\n",
    "scaler = StandardScaler()\n",
    "X_standardized = scaler.fit_transform(X)"
   ]
  },
  {
   "cell_type": "code",
   "execution_count": null,
   "id": "f566a3a2",
   "metadata": {},
   "outputs": [],
   "source": [
    "\n",
    "# Function to calculate AUC and its confidence interval using bootstrapping\n",
    "def calculate_auc_with_ci(y, X, n_bootstraps=2000, ci_percentile=95):\n",
    "    bootstrapped_aucs = []\n",
    "    rng = np.random.RandomState(42)  # Seed for reproducibility\n",
    "\n",
    "    for _ in range(n_bootstraps):\n",
    "        # Bootstrap sampling\n",
    "        indices = rng.randint(0, len(X), len(X))\n",
    "        if len(np.unique(y[indices])) < 2:\n",
    "            # Skip iteration if not enough classes\n",
    "            continue\n",
    "\n",
    "        fpr, tpr, _ = roc_curve(y[indices], X[indices])\n",
    "        roc_auc = auc(fpr, tpr)\n",
    "        bootstrapped_aucs.append(roc_auc)\n",
    "\n",
    "    sorted_aucs = np.sort(bootstrapped_aucs)\n",
    "    lower_bound = np.percentile(sorted_aucs, (100 - ci_percentile) / 2)\n",
    "    upper_bound = np.percentile(sorted_aucs, 100 - (100 - ci_percentile) / 2)\n",
    "\n",
    "    # Calculate the actual AUC\n",
    "    fpr, tpr, _ = roc_curve(y, X)\n",
    "    actual_auc = auc(fpr, tpr)\n",
    "\n",
    "    return actual_auc, lower_bound, upper_bound\n",
    "\n",
    "# Calculate AUC and 95% confidence interval\n",
    "actual_auc, lower_bound, upper_bound = calculate_auc_with_ci(y, X_standardized)\n",
    "print(f'AUC: {actual_auc:.2f}')\n",
    "print(f'95% CI for AUC: ({lower_bound:.2f}, {upper_bound:.2f})')\n",
    "\n",
    "# Plotting the ROC curve\n",
    "fpr, tpr, _ = roc_curve(y, X_standardized)\n",
    "plt.figure(figsize=(8, 8))\n",
    "plt.plot(fpr, tpr, color='darkorange', lw=2, label=f'AUC = {actual_auc:.2f} (95% CI: {lower_bound:.2f} - {upper_bound:.2f})')\n",
    "plt.plot([0, 1], [0, 1], color='navy', lw=2, linestyle='--')\n",
    "plt.xlim([0.0, 1.0])\n",
    "plt.ylim([0.0, 1.05])\n",
    "plt.xlabel('False Positive Rate (FPR)')\n",
    "plt.ylabel('True Positive Rate (TPR)')\n",
    "plt.title('Receiver Operating Characteristic (ROC) Curve')\n",
    "plt.legend(loc='lower right')\n",
    "\n",
    "plt.show()"
   ]
  },
  {
   "cell_type": "code",
   "execution_count": null,
   "id": "18503eda",
   "metadata": {},
   "outputs": [],
   "source": [
    "# T-test to see the difference b/w the means\n",
    "#using ttest_ind because its not paired- cases and controls are independant \n",
    "\n",
    "t_statistic, p_value = ttest_ind(cases, controls, equal_var=False)\n",
    "print(f'T-stat: {t_statistic:.4f}')\n",
    "print(f'P-value: {p_value:.10g}')\n",
    "p_value\n",
    "\n",
    "#confused with the p-value? Thats too perfect "
   ]
  },
  {
   "cell_type": "code",
   "execution_count": null,
   "id": "708ddac2",
   "metadata": {},
   "outputs": [],
   "source": [
    "print (statistics.mean(cases))\n",
    "print (statistics.mean(controls))"
   ]
  },
  {
   "cell_type": "code",
   "execution_count": null,
   "id": "1515b19a",
   "metadata": {},
   "outputs": [],
   "source": [
    "plt.tight_layout()\n",
    "plt.show()"
   ]
  },
  {
   "cell_type": "code",
   "execution_count": null,
   "id": "f87413a2",
   "metadata": {},
   "outputs": [],
   "source": [
    "# Create a new figure for the combined plots\n",
    "sns.set_style(\"white\")\n",
    "plt.figure(figsize=(21, 6))\n",
    "\n",
    "# Plot 1: Standardized Normal Distribution of PRS\n",
    "plt.subplot(1, 3, 1)\n",
    "scaler = StandardScaler()\n",
    "merged_df['PRS_standardized'] = scaler.fit_transform(merged_df['PRS'].values.reshape(-1, 1))\n",
    "sns.histplot(data=merged_df, x='PRS_standardized', bins=30, hue='Phenotypes', kde=True, stat='density', common_norm=False)\n",
    "plt.xlabel('Standardized PRS', fontsize=16)\n",
    "plt.ylabel('Density', fontsize=16)\n",
    "plt.tick_params(axis='both', which='major', labelsize=12)\n",
    "plt.legend(labels=['Cases', 'Controls'], fontsize=12, frameon=False)\n",
    "plt.text(-0.1, 1, '(A)', color='black', fontsize=16, va='center', ha='left', transform=plt.gca().transAxes, fontweight='bold')\n",
    "\n",
    "# Plot 2: Proportion of Cases and Controls in PRS Deciles\n",
    "plt.subplot(1, 3, 2)\n",
    "barplot = sns.barplot(x=decile_proportions.index, y=decile_proportions[1], color='darkorange', label='Cases')\n",
    "sns.barplot(x=decile_proportions.index, y=decile_proportions[0], color='skyblue', label='Controls', bottom=decile_proportions[1])\n",
    "\n",
    "for i, p in enumerate(barplot.patches[:10]):\n",
    "    height = p.get_height()\n",
    "    ymin, ymax = plt.ylim()\n",
    "    position = ymax - 0.99 * (ymax - ymin)\n",
    "    barplot.text(p.get_x() + p.get_width() / 2, position, f'{decile_counts[1][i]}', ha='center')\n",
    "\n",
    "for i, p in enumerate(barplot.patches[10:]):\n",
    "    height = p.get_height() + decile_proportions[1][i]\n",
    "    ymin, ymax = plt.ylim()\n",
    "    position = ymax - 0.1 * (ymax - ymin)\n",
    "    barplot.text(p.get_x() + p.get_width() / 2, position, f'{decile_counts[0][i]}', ha='center')\n",
    "\n",
    "plt.xticks(np.arange(0, 10), ['1', '2', '3', '4', '5', '6', '7', '8', '9', '10'])\n",
    "plt.xlabel('PRS Decile', fontsize=16)\n",
    "plt.ylabel('Proportion', fontsize=16)\n",
    "plt.tick_params(axis='both', which='major', labelsize=12)\n",
    "plt.text(-0.1, 1, '(B)', color='black', fontsize=16, va='center', ha='left', transform=plt.gca().transAxes, fontweight='bold')\n",
    "\n",
    "# Custom legend for Cases and Controls\n",
    "plt.legend([], frameon=False)\n",
    "plt.text(1.02, 0.1, 'Cases', color='darkorange', fontsize=14, va='center', ha='left', transform=plt.gca().transAxes, rotation=90, fontweight='bold')\n",
    "plt.text(1.02, 0.8, 'Controls', color='skyblue', fontsize=14, va='center', ha='left', transform=plt.gca().transAxes, rotation=90, fontweight='bold')\n",
    "\n",
    "# Plot 3: ROC Curve\n",
    "plt.subplot(1, 3, 3)\n",
    "fpr, tpr, thresholds = roc_curve(y, X_standardized)\n",
    "roc_auc = auc(fpr, tpr)\n",
    "plt.plot(fpr, tpr, color='darkorange', lw=2, label=f'AUC = {roc_auc:.2f}')\n",
    "plt.plot([0, 1], [0, 1], color='navy', lw=2, linestyle='--')\n",
    "plt.xlim([0.0, 1.0])\n",
    "plt.ylim([0.0, 1.05])\n",
    "plt.xlabel('False Positive Rate (FPR)', fontsize=16)\n",
    "plt.ylabel('True Positive Rate (TPR)', fontsize=16)\n",
    "plt.tick_params(axis='both', which='major', labelsize=12)\n",
    "plt.legend(loc='lower right', frameon=False, fontsize=14)  # Increase font size for the legend\n",
    "plt.text(-0.1, 1, '(C)', color='black', fontsize=16, va='center', ha='left', transform=plt.gca().transAxes, fontweight='bold')\n",
    "\n",
    "# Display the combined figure\n",
    "plt.tight_layout()\n",
    "\n",
    "# Save the figure\n",
    "folder_path = '/mnt/shared_folders/eResearch_glaucoma_project/Sirithi/Graph_Images/facet_plots/'\n",
    "file_path = os.path.join(folder_path, 'trial04.pdf')\n",
    "\n",
    "# Ensure the folder exists and save the figure\n",
    "os.makedirs(folder_path, exist_ok=True)\n",
    "plt.savefig(file_path)\n",
    "\n",
    "plt.close()\n"
   ]
  },
  {
   "cell_type": "code",
   "execution_count": null,
   "id": "29372118",
   "metadata": {},
   "outputs": [],
   "source": []
  }
 ],
 "metadata": {
  "kernelspec": {
   "display_name": "Python 3 (ipykernel)",
   "language": "python",
   "name": "python3"
  },
  "language_info": {
   "codemirror_mode": {
    "name": "ipython",
    "version": 3
   },
   "file_extension": ".py",
   "mimetype": "text/x-python",
   "name": "python",
   "nbconvert_exporter": "python",
   "pygments_lexer": "ipython3",
   "version": "3.8.10"
  }
 },
 "nbformat": 4,
 "nbformat_minor": 5
}
