{
 "cells": [
  {
   "cell_type": "code",
   "execution_count": null,
   "id": "8a5fa315",
   "metadata": {},
   "outputs": [],
   "source": [
    "import matplotlib.pyplot as plt\n",
    "import pandas as pd\n",
    "import numpy as np\n",
    "import seaborn as sns\n",
    "from scipy.stats import norm\n",
    "from sklearn.preprocessing import StandardScaler\n",
    "from sklearn.metrics import roc_curve, auc\n",
    "from scipy.stats import ttest_ind\n",
    "import statistics\n"
   ]
  },
  {
   "cell_type": "code",
   "execution_count": null,
   "id": "920ab93e",
   "metadata": {},
   "outputs": [],
   "source": [
    "#importing the PRSice-2 output .best file (converetd into .txt in terminal). Here I add the sep to seperate the column names with a comma) \n",
    "#replace the df with vcdr gwas .best file: /mnt/shared_folders/eResearch_glaucoma_project/Sirithi/16_02_new_case_control_and_cov_file/PRS_output/VCDR.best\n",
    "df_prs = pd.read_table('/mnt/shared_folders/eResearch_glaucoma_project/Sirithi/16_02_new_case_control_and_cov_file/PRS_output/IOP.best', sep=r'\\s+',header=0, encoding='ascii',engine='python')\n"
   ]
  },
  {
   "cell_type": "code",
   "execution_count": null,
   "id": "44a8906a",
   "metadata": {},
   "outputs": [],
   "source": [
    "#importing the case control file \n",
    "df_cc = pd.read_table('/mnt/shared_folders/eResearch_glaucoma_project/Sirithi/16_02_new_case_control_and_cov_file/new_case_control.txt', sep=r'\\s+',header=0, encoding='ascii',engine='python')"
   ]
  },
  {
   "cell_type": "code",
   "execution_count": null,
   "id": "bd8440cd",
   "metadata": {},
   "outputs": [],
   "source": [
    "count_ones = (df_cc['Phenotypes'] == 1).sum()\n",
    "\n",
    "print(\"Number of occurrences of 1 in the 'Phenotype' column:\", count_ones)"
   ]
  },
  {
   "cell_type": "code",
   "execution_count": null,
   "id": "37e01fec",
   "metadata": {},
   "outputs": [],
   "source": [
    "4# Thought I should only use data thats used in the regression model\n",
    "df_prs_filtered = df_prs[df_prs['In_Regression'] == 'Yes']\n",
    "print(df_prs_filtered.head())"
   ]
  },
  {
   "cell_type": "code",
   "execution_count": null,
   "id": "c3a94f88",
   "metadata": {},
   "outputs": [],
   "source": [
    "df_prs_filtered = df_prs_filtered.dropna(subset=['PRS'])"
   ]
  },
  {
   "cell_type": "code",
   "execution_count": null,
   "id": "4e6d6ea7",
   "metadata": {},
   "outputs": [],
   "source": [
    "# convert PRS column to numeric\n",
    "df_prs_filtered['PRS'] = pd.to_numeric(df_prs_filtered['PRS'], errors='coerce')"
   ]
  },
  {
   "cell_type": "code",
   "execution_count": null,
   "id": "d1e7cbb6",
   "metadata": {},
   "outputs": [],
   "source": [
    "#Merge the dfs\n",
    "merged_df = pd.merge(df_prs_filtered, df_cc, on=['FID', 'IID'])"
   ]
  },
  {
   "cell_type": "code",
   "execution_count": null,
   "id": "3d5a1ac0",
   "metadata": {},
   "outputs": [],
   "source": [
    "# separate the data into cases and controls\n",
    "cases = merged_df[merged_df['Phenotypes'] == 1]['PRS']\n",
    "controls = merged_df[merged_df['Phenotypes'] == 0]['PRS']"
   ]
  },
  {
   "cell_type": "code",
   "execution_count": null,
   "id": "60689af5",
   "metadata": {},
   "outputs": [],
   "source": [
    "# plotting the normal distribution curves\n",
    "plt.figure(figsize=(10, 6))\n",
    "sns.histplot(cases, kde=True, label='Cases', color='orange', stat='density', common_norm=False)\n",
    "sns.histplot(controls, kde=True, label='Controls', color='dodgerblue', stat='density', common_norm=False)\n",
    "\n",
    "plt.legend(title='Group', labels=[ 'Cases','Controls'])\n"
   ]
  },
  {
   "cell_type": "code",
   "execution_count": null,
   "id": "35ba2fa0",
   "metadata": {},
   "outputs": [],
   "source": [
    "# standardize the PRS data\n",
    "scaler = StandardScaler()\n",
    "merged_df['PRS_standardized'] = scaler.fit_transform(merged_df['PRS'].values.reshape(-1, 1))\n",
    "\n",
    "# plot the standardized normal distribution curves with different colors and make it prety\n",
    "plt.figure(figsize=(10, 6))\n",
    "sns.histplot(data=merged_df, x='PRS_standardized', bins=30, hue='Phenotypes', kde=True, stat='density', common_norm=False)\n",
    "\n",
    "plt.title('Standardized Normal Distribution of PRS for Cases and Controls for UKBiobank Data')\n",
    "plt.xlabel('Standardized PRS')\n",
    "plt.ylabel('Density')\n",
    "plt.legend(title='Group', labels=[ 'Cases','Controls'])\n",
    "plt.show()"
   ]
  },
  {
   "cell_type": "code",
   "execution_count": null,
   "id": "cfc68d04",
   "metadata": {},
   "outputs": [],
   "source": [
    "## NEXT - trying to make the propotion of individuals vs PRS decile graph"
   ]
  },
  {
   "cell_type": "code",
   "execution_count": null,
   "id": "4982065f",
   "metadata": {},
   "outputs": [],
   "source": [
    "# calculating the PRS deciles\n",
    "merged_df['PRS_decile']= pd.qcut(merged_df['PRS_standardized'], q=10, labels=False)\n"
   ]
  },
  {
   "cell_type": "code",
   "execution_count": null,
   "id": "20f9ee28",
   "metadata": {},
   "outputs": [],
   "source": [
    "#just want to see how my df looks like\n",
    "print (merged_df.head())"
   ]
  },
  {
   "cell_type": "code",
   "execution_count": null,
   "id": "de962549",
   "metadata": {},
   "outputs": [],
   "source": [
    "# counting hte number of indv (cases vs controls)\n",
    "decile_counts = merged_df.groupby(['PRS_decile', 'Phenotypes']).size().unstack(fill_value=0)\n"
   ]
  },
  {
   "cell_type": "code",
   "execution_count": null,
   "id": "1a00cdc0",
   "metadata": {},
   "outputs": [],
   "source": [
    "# calculatin the propitons \n",
    "decile_proportions = decile_counts.div(decile_counts.sum(axis=1), axis=0)\n"
   ]
  },
  {
   "cell_type": "code",
   "execution_count": null,
   "id": "967e135a",
   "metadata": {},
   "outputs": [],
   "source": [
    "plt.figure(figsize=(12, 6))\n",
    "barplot = sns.barplot(x=decile_proportions.index, y=decile_proportions[1], color='darkorange', label='Cases')\n",
    "sns.barplot(x=decile_proportions.index, y=decile_proportions[0], color='skyblue', label='Controls', bottom=decile_proportions[1])\n",
    "\n",
    "\n",
    "for p, case_count in zip(barplot.patches, decile_counts[1]):\n",
    "    height = p.get_height()\n",
    "    ymin, ymax = plt.ylim()\n",
    "    position = ymax - 0.99 * (ymax - ymin) \n",
    "    barplot.text(p.get_x() + p.get_width() / 2,\n",
    "                 position,\n",
    "                 f'{case_count}',\n",
    "                 ha='center')\n",
    "\n",
    "# Annotate each bar with separate counts for controls\n",
    "for p, control_count in zip(barplot.patches, decile_counts[0]):\n",
    "    height = p.get_height() + decile_proportions[1]\n",
    "    ymin, ymax = plt.ylim()\n",
    "    position = ymax - 0.1 * (ymax - ymin) \n",
    "    barplot.text(p.get_x() + p.get_width() / 2,\n",
    "                 position,\n",
    "                 f'{control_count}',\n",
    "                 ha='center')\n",
    "    \n",
    "plt.title('Proportion of Cases and Controls in PRS Deciles with Counts')\n",
    "plt.xlabel('PRS Decile')\n",
    "plt.ylabel('Proportion')\n",
    "plt.legend(loc='upper left', bbox_to_anchor=(1, 1))\n",
    "plt.show()\n",
    "\n",
    "plt.figure(figsize=(18, 10))\n"
   ]
  },
  {
   "cell_type": "code",
   "execution_count": null,
   "id": "71f30758",
   "metadata": {},
   "outputs": [],
   "source": [
    "## OKay so ROC and AUC - \n",
    "\n",
    "X = merged_df[['PRS']]\n",
    "y = merged_df['Phenotypes']\n",
    "\n",
    "# Standardize the PRS data\n",
    "scaler = StandardScaler()\n",
    "X_standardized = scaler.fit_transform(X)"
   ]
  },
  {
   "cell_type": "code",
   "execution_count": null,
   "id": "f566a3a2",
   "metadata": {},
   "outputs": [],
   "source": [
    "\n",
    "#ROC curve\n",
    "fpr, tpr, thresholds = roc_curve(y, X_standardized)\n",
    "\n",
    "#AUC score\n",
    "roc_auc = auc(fpr, tpr)\n",
    "\n",
    "# Plotting the ROC curve\n",
    "plt.figure(figsize=(8, 8))\n",
    "plt.plot(fpr, tpr, color='darkorange', lw=2, label=f'AUC = {roc_auc:.2f}')\n",
    "plt.plot([0, 1], [0, 1], color='navy', lw=2, linestyle='--')\n",
    "plt.xlim([0.0, 1.0])\n",
    "plt.ylim([0.0, 1.05])\n",
    "plt.xlabel('False Positive Rate (FPR)')\n",
    "plt.ylabel('True Positive Rate (TPR)')\n",
    "plt.title('Receiver Operating Characteristic (ROC) Curve')\n",
    "plt.legend(loc='lower right')\n",
    "plt.show()\n",
    "\n"
   ]
  },
  {
   "cell_type": "code",
   "execution_count": null,
   "id": "18503eda",
   "metadata": {},
   "outputs": [],
   "source": [
    "# T-test to see the difference b/w the means\n",
    "#using ttest_ind because its not paired- cases and controls are independant \n",
    "\n",
    "t_statistic, p_value = ttest_ind(cases, controls, equal_var=False)\n",
    "print(f'T-stat: {t_statistic:.4f}')\n",
    "print(f'P-value: {p_value:.10g}')\n",
    "p_value\n",
    "\n",
    "#confused with the p-value? Thats too perfect "
   ]
  },
  {
   "cell_type": "code",
   "execution_count": null,
   "id": "708ddac2",
   "metadata": {},
   "outputs": [],
   "source": [
    "print (statistics.mean(cases))\n",
    "print (statistics.mean(controls))"
   ]
  },
  {
   "cell_type": "code",
   "execution_count": null,
   "id": "b50d047b",
   "metadata": {},
   "outputs": [],
   "source": [
    "import pandas as pd\n",
    "import numpy as np\n",
    "import matplotlib.pyplot as plt\n",
    "import seaborn as sns\n",
    "from sklearn.metrics import roc_curve, auc\n",
    "from sklearn.preprocessing import StandardScaler\n",
    "\n",
    "# Read PRSice-2 output files\n",
    "df_prs_IOP = pd.read_table('/mnt/shared_folders/eResearch_glaucoma_project/Sirithi/16_02_new_case_control_and_cov_file/PRS_output/IOP.best', sep=r'\\s+', header=0, encoding='ascii', engine='python')\n",
    "df_prs_VCDR = pd.read_table('/mnt/shared_folders/eResearch_glaucoma_project/Sirithi/16_02_new_case_control_and_cov_file/PRS_output/VCDR.best', sep=r'\\s+', header=0, encoding='ascii', engine='python')\n",
    "\n",
    "# Read case control file\n",
    "df_cc = pd.read_table('/mnt/shared_folders/eResearch_glaucoma_project/Sirithi/16_02_new_case_control_and_cov_file/new_case_control.txt', sep=r'\\s+', header=0, encoding='ascii', engine='python')\n",
    "\n",
    "# Filter and merge dataframes\n",
    "def process_prs(df_prs, df_cc):\n",
    "    df_prs_filtered = df_prs[df_prs['In_Regression'] == 'Yes'].dropna(subset=['PRS'])\n",
    "    df_prs_filtered['PRS'] = pd.to_numeric(df_prs_filtered['PRS'], errors='coerce')\n",
    "    merged_df = pd.merge(df_prs_filtered, df_cc, on=['FID', 'IID'])\n",
    "    merged_df['PRS_decile'] = pd.qcut(merged_df['PRS'], q=10, labels=False)\n",
    "    return merged_df\n",
    "\n",
    "merged_IOP = process_prs(df_prs_IOP, df_cc)\n",
    "merged_VCDR = process_prs(df_prs_VCDR, df_cc)\n",
    "\n",
    "# Function to plot decile proportions\n",
    "def plot_decile_proportions(ax, merged_df, title):\n",
    "    decile_counts = merged_df.groupby(['PRS_decile', 'Phenotypes']).size().unstack(fill_value=0)\n",
    "    decile_proportions = decile_counts.div(decile_counts.sum(axis=1), axis=0)\n",
    "    sns.barplot(x=decile_proportions.index, y=decile_proportions[1], color='darkorange', label='Cases', ax=ax)\n",
    "    sns.barplot(x=decile_proportions.index, y=decile_proportions[0], color='skyblue', label='Controls', bottom=decile_proportions[1], ax=ax)\n",
    "    for i, p in enumerate(ax.patches[:10]):\n",
    "        ax.text(p.get_x() + p.get_width() / 2., p.get_height() - 0.02, f'{decile_counts[1][i]}', ha=\"center\", fontsize=9)\n",
    "    for i, p in enumerate(ax.patches[10:]):\n",
    "        height = p.get_height() + decile_proportions[1][i]\n",
    "        ax.text(p.get_x() + p.get_width() / 2., height - 0.05, f'{decile_counts[0][i]}', ha=\"center\", fontsize=9)\n",
    "    ax.set_xlabel('PRS Decile', fontsize=14)\n",
    "    ax.set_ylabel('Proportion', fontsize=14)\n",
    " \n",
    "    # Custom legend for Cases and Controls\n",
    "    ax.legend([], frameon=False)\n",
    "    ax.text(1.02, 0.1, 'Cases', color='darkorange', fontsize=14, va='center', ha='left', transform=ax.transAxes, rotation=90, fontweight='bold')\n",
    "    ax.text(1.02, 0.8, 'Controls', color='skyblue', fontsize=14, va='center', ha='left', transform=ax.transAxes, rotation=90, fontweight='bold')\n",
    "\n",
    "\n",
    "# Function to plot ROC curve\n",
    "def plot_roc_curve(ax, merged_df, label):\n",
    "    X = merged_df[['PRS']]\n",
    "    y = merged_df['Phenotypes']\n",
    "    scaler = StandardScaler()\n",
    "    X_standardized = scaler.fit_transform(X)\n",
    "    fpr, tpr, _ = roc_curve(y, X_standardized)\n",
    "    roc_auc = auc(fpr, tpr)\n",
    "    ax.plot(fpr, tpr, lw=2, label=f'{label} AUC = {roc_auc:.2f}')\n",
    "    return roc_auc\n",
    "\n",
    "# Create the 1x3 facet plot\n",
    "fig, axes = plt.subplots(1, 3, figsize=(21, 6))\n",
    "\n",
    "# Decile plots\n",
    "plot_decile_proportions(axes[0], merged_IOP, 'IOP PRS Decile Plot')\n",
    "plot_decile_proportions(axes[1], merged_VCDR, 'VCDR PRS Decile Plot')\n",
    "axes[1].set_ylabel('') \n",
    "\n",
    "# ROC curve\n",
    "axes[2].plot([0, 1], [0, 1], color='navy', lw=2, linestyle='--')\n",
    "roc_auc_IOP = plot_roc_curve(axes[2], merged_IOP, 'IOP')\n",
    "roc_auc_VCDR = plot_roc_curve(axes[2], merged_VCDR, 'VCDR')\n",
    "axes[2].set_xlim([0.0, 1.0])\n",
    "axes[2].set_ylim([0.0, 1.05])\n",
    "axes[2].set_xlabel('False Positive Rate (FPR)', fontsize=14)\n",
    "axes[2].set_ylabel('True Positive Rate (TPR)', fontsize=14)\n",
    "axes[2].legend(title='GWAS',loc='lower right')\n",
    "\n",
    "# Add panel labels\n",
    "axes[0].text(-0.05, 1.05, '(A) IOP', transform=axes[0].transAxes, fontsize=16, fontweight='bold', va='top')\n",
    "axes[1].text(-0.05, 1.05, '(B) VCDR', transform=axes[1].transAxes, fontsize=16, fontweight='bold', va='top')\n",
    "axes[2].text(-0.05, 1.05, '(C)', transform=axes[2].transAxes, fontsize=16, fontweight='bold', va='top')\n",
    "\n",
    "plt.tight_layout()\n",
    "\n",
    "import os\n",
    "\n",
    "folder_path = '/mnt/shared_folders/eResearch_glaucoma_project/Sirithi/Graph_Images/facet_plots'\n",
    "file_path = os.path.join(folder_path, 'VCDR_IOP_GWAS.pdf')\n",
    "\n",
    "# Ensure the folder exists and save the figure\n",
    "os.makedirs(folder_path, exist_ok=True)\n",
    "plt.savefig(file_path)\n",
    "\n",
    "plt.close"
   ]
  }
 ],
 "metadata": {
  "kernelspec": {
   "display_name": "Python 3 (ipykernel)",
   "language": "python",
   "name": "python3"
  },
  "language_info": {
   "codemirror_mode": {
    "name": "ipython",
    "version": 3
   },
   "file_extension": ".py",
   "mimetype": "text/x-python",
   "name": "python",
   "nbconvert_exporter": "python",
   "pygments_lexer": "ipython3",
   "version": "3.8.10"
  }
 },
 "nbformat": 4,
 "nbformat_minor": 5
}
